{
 "cells": [
  {
   "cell_type": "code",
   "execution_count": 38,
   "id": "60ec3161-d655-4bbd-8543-54d9e0a3b5db",
   "metadata": {},
   "outputs": [],
   "source": [
    "import pandas as pd\n",
    "import numpy as np\n",
    "import matplotlib.pyplot as plt\n",
    "import math"
   ]
  },
  {
   "cell_type": "code",
   "execution_count": 39,
   "id": "3f672b42-ede5-4cc8-ace5-e86754719110",
   "metadata": {},
   "outputs": [
    {
     "name": "stdout",
     "output_type": "stream",
     "text": [
      "   Hours Studied  Previous Scores Extracurricular Activities  Sleep Hours  \\\n",
      "0              7               99                        Yes            9   \n",
      "1              4               82                         No            4   \n",
      "2              8               51                        Yes            7   \n",
      "3              5               52                        Yes            5   \n",
      "4              7               75                         No            8   \n",
      "\n",
      "   Sample Question Papers Practiced  Performance Index  \n",
      "0                                 1               91.0  \n",
      "1                                 2               65.0  \n",
      "2                                 2               45.0  \n",
      "3                                 2               36.0  \n",
      "4                                 5               66.0  \n"
     ]
    }
   ],
   "source": [
    "# df = pd.read_csv(\"Student_Performance.csv\", nrows = 100)\n",
    "df = pd.read_csv(\"Student_Performance.csv\")\n",
    "\n",
    "\n",
    "print(df.head())"
   ]
  },
  {
   "cell_type": "code",
   "execution_count": 40,
   "id": "bbbb73a4-070e-4ce4-9a0b-5b65cf6a1212",
   "metadata": {},
   "outputs": [
    {
     "name": "stderr",
     "output_type": "stream",
     "text": [
      "C:\\Users\\sashk\\AppData\\Local\\Temp\\ipykernel_41480\\3330621573.py:3: FutureWarning: Downcasting behavior in `replace` is deprecated and will be removed in a future version. To retain the old behavior, explicitly call `result.infer_objects(copy=False)`. To opt-in to the future behavior, set `pd.set_option('future.no_silent_downcasting', True)`\n",
      "  x_3 = df[\"Extracurricular Activities\"].replace({\"Yes\": 1, \"No\": 0})\n"
     ]
    }
   ],
   "source": [
    "x_1 = df[\"Hours Studied\"]\n",
    "x_2 = df[\"Previous Scores\"]\n",
    "x_3 = df[\"Extracurricular Activities\"].replace({\"Yes\": 1, \"No\": 0})\n",
    "x_4 = df[\"Sleep Hours\"]\n",
    "x_5 = df[\"Sample Question Papers Practiced\"]\n",
    "\n",
    "# X_train = [x_1, x_2, x_3, x_4, x_5]\n",
    "X_train = np.array([x_1, x_2, x_3, x_4, x_5])\n",
    "\n",
    "y_train = df[\"Performance Index\"]\n",
    "\n",
    "w = [5 for i in range(10000)]\n",
    "b = 10"
   ]
  },
  {
   "cell_type": "code",
   "execution_count": 41,
   "id": "fac091ea-5127-45c7-9f4d-30425abab0db",
   "metadata": {},
   "outputs": [],
   "source": [
    "def prediction(x, w, b):\n",
    "\n",
    "    n = x.shape[0]\n",
    "\n",
    "    p = 0\n",
    "    for i in range(n):\n",
    "        p_i = x[i] * w[i]\n",
    "        p += p_i\n",
    "\n",
    "    p += b\n",
    "\n",
    "    return p\n",
    "    "
   ]
  },
  {
   "cell_type": "code",
   "execution_count": 42,
   "id": "c5dfe7ba-4aad-43dd-8d47-aec95e0e1810",
   "metadata": {},
   "outputs": [],
   "source": [
    "def predict_single_loop(x, w, b):\n",
    "    p = np.dot(x, w) + b\n",
    "\n",
    "    return p"
   ]
  },
  {
   "cell_type": "code",
   "execution_count": 43,
   "id": "6f0fac30-2458-4887-be3f-1f04b2ac32a6",
   "metadata": {},
   "outputs": [],
   "source": [
    "def min_max_scaling(X):\n",
    "    \"\"\"\n",
    "    min_val: An array of shape (X.shape[1]) where each element is the minimum value found for each feature column across m examples of X.\n",
    "\n",
    "    max_val - Same principle as min_val but for maximum values.\n",
    "\n",
    "    X - min_val: Subtract the values of min_val from each m of X using broadcasting.\n",
    "    In other words, for each row m in X, substract min_val from every m element-wise.\n",
    "\n",
    "\n",
    "    max_val - min_val: The range of elements. It defines how far apart the smallest and the largest values are.\n",
    "    To calculate it, every feature of min_val is subtracted from every feature of max_val (Element-wise operation).\n",
    "\n",
    "    (X - min_val) / (max_val - min_val): \n",
    "        For every m of X, subtract min_val from m using broadcasting.\n",
    "        Divide each n of X[m] by (max_val - min_val)[n] using broadcasting.\n",
    "    \"\"\"\n",
    "    min_val = X.min(axis=0)  # Minimum per feature\n",
    "    max_val = X.max(axis=0)  # Maximum per feature\n",
    "    \n",
    "    X_scaled = (X - min_val) / (max_val - min_val)\n",
    "\n",
    "    # print(f\"Min value: {min_val}\")\n",
    "    # print(f\"Max value: {max_val}\")\n",
    "\n",
    "    # print(f\"X - min_val: {X - min_val}\")\n",
    "    # print(f\"max_val - min_val: {max_val - min_val}\")\n",
    "\n",
    "    return X_scaled"
   ]
  },
  {
   "cell_type": "code",
   "execution_count": 44,
   "id": "15a52099-d9ca-4a0d-b933-0e8a2254057e",
   "metadata": {},
   "outputs": [],
   "source": [
    "def compute_cost(X, y, w, b):\n",
    "    m = len(X)\n",
    "    n = len(X[0])\n",
    "    \n",
    "    cost = 0\n",
    "    \n",
    "    for i in range(m):\n",
    "        f_wb_i = np.dot(X[i], w) + b\n",
    "        cost += (f_wb_i - y[i]) ** 2\n",
    "\n",
    "    return cost / (2 * m)\n",
    "        "
   ]
  },
  {
   "cell_type": "code",
   "execution_count": 45,
   "id": "3ad46af7-ba78-48d4-a1bd-f86a4d378498",
   "metadata": {},
   "outputs": [
    {
     "name": "stdout",
     "output_type": "stream",
     "text": [
      "1227836949591.8\n"
     ]
    }
   ],
   "source": [
    "print(compute_cost(X_train, y_train, w, b))"
   ]
  },
  {
   "cell_type": "code",
   "execution_count": 72,
   "id": "f0fc928d-3a1c-4866-8e53-55ef271288ca",
   "metadata": {},
   "outputs": [],
   "source": [
    "def compute_gradient(X, y, w, b):\n",
    "    m, n = X.shape\n",
    "\n",
    "    dj_dw = np.zeros((n,))\n",
    "    dj_db = 0\n",
    "    \n",
    "    for i in range(m):\n",
    "        f_wb_i = np.dot(X[i], w) + b\n",
    "        err = f_wb_i - y[i]\n",
    "        for j in range(n):\n",
    "            dj_dw[j] += err * X[i][j]\n",
    "        dj_db += err\n",
    "\n",
    "    dj_dw = dj_dw / m\n",
    "    dj_db = dj_db / m\n",
    "            \n",
    "\n",
    "    return dj_dw, dj_db"
   ]
  },
  {
   "cell_type": "code",
   "execution_count": 71,
   "id": "01290f23-c1e3-4263-b454-68be29de8a86",
   "metadata": {},
   "outputs": [],
   "source": [
    "def gradient_descent(X, y, w_in, b_in, cost_function, gradient_function, alpha, num_iters):\n",
    "    J_history = []\n",
    "    w_history = []\n",
    "\n",
    "    w = w_in.copy()\n",
    "    b = b_in\n",
    "\n",
    "    for i in range(num_iters):\n",
    "        dj_dw, dj_db = gradient_function(X, y, w, b)\n",
    "\n",
    "        w = w - alpha * dj_dw\n",
    "        b = b - alpha * dj_db\n",
    "\n",
    "        cost = cost_function(X, y, w, b)\n",
    "        J_history.append(cost)\n",
    "\n",
    "        if i % 100 == 0:\n",
    "            w_history.append(w)\n",
    "\n",
    "\n",
    "    return w, b, J_history, w_history\n",
    "    "
   ]
  },
  {
   "cell_type": "code",
   "execution_count": null,
   "id": "643546bd-13df-4e08-aec5-bcb68781b5b5",
   "metadata": {},
   "outputs": [
    {
     "name": "stdout",
     "output_type": "stream",
     "text": [
      "[-0.13720973 -0.07817852  0.0581322  ... -0.05483744  0.22562968\n",
      " -0.06050767] 28.32116157836448\n"
     ]
    }
   ],
   "source": [
    "w = [1 in range(10000)]\n",
    "# b = 50\n",
    "w = np.zeros_like(w)\n",
    "b = 0.\n",
    "X_train = min_max_scaling(X_train)\n",
    "iterations = 10000\n",
    "alpha = 0.0005\n",
    "# alpha = 0.00001\n",
    "w_final, b_final, J_hist, _= gradient_descent(X_train, y_train, w, b, compute_cost, compute_gradient, alpha, iterations)\n",
    "\n",
    "print(w_final, b_final)"
   ]
  },
  {
   "cell_type": "code",
   "execution_count": 62,
   "id": "8c65fa53-d33e-4ac7-9e39-3df6eb3c1323",
   "metadata": {},
   "outputs": [
    {
     "name": "stdout",
     "output_type": "stream",
     "text": [
      "21.216967161140026\n"
     ]
    }
   ],
   "source": [
    "print(compute_cost(X_train, y_train, w_final, b_final))"
   ]
  },
  {
   "cell_type": "code",
   "execution_count": 81,
   "id": "4f03e38c-d503-4cca-b5b8-37af6459c4e8",
   "metadata": {},
   "outputs": [
    {
     "name": "stdout",
     "output_type": "stream",
     "text": [
      "prediction: 91.42282039533131, target value: 91.0\n",
      "prediction: 64.90288533677995, target value: 65.0\n",
      "prediction: 30.46302271420214, target value: 45.0\n",
      "prediction: 36.810346345169066, target value: 36.0\n",
      "prediction: 66.03306750592384, target value: 66.0\n"
     ]
    }
   ],
   "source": [
    "m = X_train.shape[0]\n",
    "for i in range(m):\n",
    "    # print(f\"prediction: {np.dot(X_train[i], w_final) + b_final:0.2f}, target value: {y_train[i]}\")\n",
    "    print(f\"prediction: {predict_single_loop(X_train[i], w_final, b_final)}, target value: {y_train[i]}\")"
   ]
  },
  {
   "cell_type": "code",
   "execution_count": 70,
   "id": "ef18c756-f5a8-483d-9c4d-51a53d1284bd",
   "metadata": {},
   "outputs": [
    {
     "data": {
      "image/png": "[encoded data removed]",
      "text/plain": [
       "<Figure size 1200x400 with 2 Axes>"
      ]
     },
     "metadata": {},
     "output_type": "display_data"
    }
   ],
   "source": [
    "fig, (ax1, ax2) = plt.subplots(1, 2, constrained_layout=True, figsize=(12, 4))\n",
    "ax1.plot(J_hist)\n",
    "ax2.plot(100 + np.arange(len(J_hist[100:])), J_hist[100:])\n",
    "ax1.set_title(\"Cost vs. iteration\");  ax2.set_title(\"Cost vs. iteration (tail)\")\n",
    "ax1.set_ylabel('Cost')             ;  ax2.set_ylabel('Cost') \n",
    "ax1.set_xlabel('iteration step')   ;  ax2.set_xlabel('iteration step') \n",
    "plt.show()"
   ]
  },
  {
   "cell_type": "code",
   "execution_count": null,
   "id": "7f2c5e75-a505-4857-b920-495a335fa0f3",
   "metadata": {},
   "outputs": [],
   "source": []
  }
 ],
 "metadata": {
  "kernelspec": {
   "display_name": "Python 3 (ipykernel)",
   "language": "python",
   "name": "python3"
  },
  "language_info": {
   "codemirror_mode": {
    "name": "ipython",
    "version": 3
   },
   "file_extension": ".py",
   "mimetype": "text/x-python",
   "name": "python",
   "nbconvert_exporter": "python",
   "pygments_lexer": "ipython3",
   "version": "3.12.7"
  }
 },
 "nbformat": 4,
 "nbformat_minor": 5
}
