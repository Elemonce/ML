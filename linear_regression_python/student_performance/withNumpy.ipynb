{
 "cells": [
  {
   "cell_type": "code",
   "execution_count": 136,
   "id": "60ec3161-d655-4bbd-8543-54d9e0a3b5db",
   "metadata": {},
   "outputs": [],
   "source": [
    "import pandas as pd\n",
    "import numpy as np\n",
    "import matplotlib.pyplot as plt\n",
    "import math"
   ]
  },
  {
   "cell_type": "code",
   "execution_count": 137,
   "id": "3f672b42-ede5-4cc8-ace5-e86754719110",
   "metadata": {},
   "outputs": [
    {
     "name": "stdout",
     "output_type": "stream",
     "text": [
      "   Hours Studied  Previous Scores Extracurricular Activities  Sleep Hours  \\\n",
      "0              7               99                        Yes            9   \n",
      "1              4               82                         No            4   \n",
      "2              8               51                        Yes            7   \n",
      "3              5               52                        Yes            5   \n",
      "4              7               75                         No            8   \n",
      "\n",
      "   Sample Question Papers Practiced  Performance Index  \n",
      "0                                 1               91.0  \n",
      "1                                 2               65.0  \n",
      "2                                 2               45.0  \n",
      "3                                 2               36.0  \n",
      "4                                 5               66.0  \n"
     ]
    }
   ],
   "source": [
    "# df = pd.read_csv(\"Student_Performance.csv\", nrows = 100)\n",
    "df = pd.read_csv(\"Student_Performance.csv\")\n",
    "\n",
    "\n",
    "print(df.head())"
   ]
  },
  {
   "cell_type": "code",
   "execution_count": 138,
   "id": "bbbb73a4-070e-4ce4-9a0b-5b65cf6a1212",
   "metadata": {},
   "outputs": [
    {
     "name": "stderr",
     "output_type": "stream",
     "text": [
      "C:\\Users\\sashk\\AppData\\Local\\Temp\\ipykernel_29648\\1824996716.py:3: FutureWarning: Downcasting behavior in `replace` is deprecated and will be removed in a future version. To retain the old behavior, explicitly call `result.infer_objects(copy=False)`. To opt-in to the future behavior, set `pd.set_option('future.no_silent_downcasting', True)`\n",
      "  x_3 = df[\"Extracurricular Activities\"].replace({\"Yes\": 1, \"No\": 0})\n"
     ]
    }
   ],
   "source": [
    "x_1 = df[\"Hours Studied\"]\n",
    "x_2 = df[\"Previous Scores\"]\n",
    "x_3 = df[\"Extracurricular Activities\"].replace({\"Yes\": 1, \"No\": 0})\n",
    "x_4 = df[\"Sleep Hours\"]\n",
    "x_5 = df[\"Sample Question Papers Practiced\"]\n",
    "\n",
    "X_train = [x_1, x_2, x_3, x_4, x_5]\n",
    "\n",
    "y_train = df[\"Performance Index\"]\n"
   ]
  },
  {
   "cell_type": "code",
   "execution_count": 139,
   "id": "3da6d5df-593e-42bd-b656-f9e9f17d3cbb",
   "metadata": {},
   "outputs": [],
   "source": [
    "w = [5 for i in range(10000)]\n",
    "b = 50"
   ]
  },
  {
   "cell_type": "code",
   "execution_count": 140,
   "id": "15a52099-d9ca-4a0d-b933-0e8a2254057e",
   "metadata": {},
   "outputs": [],
   "source": [
    "def compute_cost(X, y, w, b):\n",
    "    m = len(X)\n",
    "    n = len(X[0])\n",
    "    \n",
    "    cost = 0\n",
    "    \n",
    "    for i in range(m):\n",
    "        f_wb_i = np.dot(X[i], w) + b\n",
    "        cost += (f_wb_i - y[i]) ** 2\n",
    "\n",
    "    return cost / (2 * m)\n",
    "        "
   ]
  },
  {
   "cell_type": "code",
   "execution_count": 141,
   "id": "3ad46af7-ba78-48d4-a1bd-f86a4d378498",
   "metadata": {},
   "outputs": [
    {
     "name": "stdout",
     "output_type": "stream",
     "text": [
      "1227871367287.8\n"
     ]
    }
   ],
   "source": [
    "print(compute_cost(X_train, y_train, w, b))"
   ]
  },
  {
   "cell_type": "code",
   "execution_count": 147,
   "id": "f0fc928d-3a1c-4866-8e53-55ef271288ca",
   "metadata": {},
   "outputs": [],
   "source": [
    "def compute_gradient(X, y, w, b):\n",
    "    m = len(X)\n",
    "    n = len(X[0])\n",
    "\n",
    "    dj_dw = np.zeros((n,))\n",
    "    dj_db = 0\n",
    "    \n",
    "    for i in range(m):\n",
    "        f_wb_i = np.dot(X[i], w) + b\n",
    "        err = f_wb_i - y[i]\n",
    "        for j in range(n):\n",
    "            dj_dw[j] += err * X[i][j]\n",
    "        dj_db += err\n",
    "\n",
    "    dj_dw = dj_dw / m\n",
    "    dj_db = dj_db / m\n",
    "            \n",
    "\n",
    "    return dj_dw, dj_db"
   ]
  },
  {
   "cell_type": "code",
   "execution_count": 148,
   "id": "01290f23-c1e3-4263-b454-68be29de8a86",
   "metadata": {},
   "outputs": [],
   "source": [
    "def gradient_descent(X, y, w_in, b_in, cost_function, gradient_function, alpha, num_iters):\n",
    "    m = len(X)\n",
    "    n = len(X[0])\n",
    "\n",
    "    J_history = []\n",
    "    w_history = []\n",
    "\n",
    "    w = w_in.copy()\n",
    "    b = b_in\n",
    "\n",
    "    for i in range(num_iters):\n",
    "        if i % 20 == 0:\n",
    "            print(i)\n",
    "        dj_dw, dj_db = gradient_function(X, y, w, b)\n",
    "\n",
    "        w = w - alpha * dj_dw\n",
    "        b = b - alpha * dj_db\n",
    "\n",
    "        cost = cost_function(X, y, w, b)\n",
    "        J_history.append(cost)\n",
    "\n",
    "        if i % 100 == 0:\n",
    "            w_history.append(w)\n",
    "\n",
    "\n",
    "    return w, b, J_history, w_history\n",
    "    "
   ]
  },
  {
   "cell_type": "code",
   "execution_count": 155,
   "id": "643546bd-13df-4e08-aec5-bcb68781b5b5",
   "metadata": {},
   "outputs": [
    {
     "name": "stdout",
     "output_type": "stream",
     "text": [
      "0\n",
      "[3.01204253e+80 2.48399695e+80 1.56976137e+80 ... 2.53454801e+80\n",
      " 2.94887603e+80 2.25872956e+80] 3.6787183392101782e+78\n"
     ]
    }
   ],
   "source": [
    "w = [1 for i in range(10000)]\n",
    "b = 50\n",
    "iterations = 20\n",
    "alpha = 0.001\n",
    "# alpha = 0.00001\n",
    "w, b, _, _= gradient_descent(X_train, y_train, w, b, compute_cost, compute_gradient, alpha, iterations)\n",
    "\n",
    "print(w, b)"
   ]
  },
  {
   "cell_type": "code",
   "execution_count": null,
   "id": "8b616da9-1264-43c7-a128-c28a4c099afb",
   "metadata": {},
   "outputs": [],
   "source": []
  }
 ],
 "metadata": {
  "kernelspec": {
   "display_name": "Python 3 (ipykernel)",
   "language": "python",
   "name": "python3"
  },
  "language_info": {
   "codemirror_mode": {
    "name": "ipython",
    "version": 3
   },
   "file_extension": ".py",
   "mimetype": "text/x-python",
   "name": "python",
   "nbconvert_exporter": "python",
   "pygments_lexer": "ipython3",
   "version": "3.12.7"
  }
 },
 "nbformat": 4,
 "nbformat_minor": 5
}
