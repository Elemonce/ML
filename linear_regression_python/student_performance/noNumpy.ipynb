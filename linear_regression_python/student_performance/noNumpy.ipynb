{
 "cells": [
  {
   "cell_type": "code",
   "execution_count": 75,
   "id": "5ee442a3-cc84-40e8-87ba-5fd7a9fcfdd3",
   "metadata": {},
   "outputs": [],
   "source": [
    "import pandas as pd\n",
    "import matplotlib.pyplot as plt\n",
    "import math"
   ]
  },
  {
   "cell_type": "code",
   "execution_count": 76,
   "id": "02bc5717-c837-4918-abdd-7af7cee87a44",
   "metadata": {},
   "outputs": [
    {
     "name": "stdout",
     "output_type": "stream",
     "text": [
      "   Hours Studied  Previous Scores Extracurricular Activities  Sleep Hours  \\\n",
      "0              7               99                        Yes            9   \n",
      "1              4               82                         No            4   \n",
      "2              8               51                        Yes            7   \n",
      "3              5               52                        Yes            5   \n",
      "4              7               75                         No            8   \n",
      "\n",
      "   Sample Question Papers Practiced  Performance Index  \n",
      "0                                 1               91.0  \n",
      "1                                 2               65.0  \n",
      "2                                 2               45.0  \n",
      "3                                 2               36.0  \n",
      "4                                 5               66.0  \n"
     ]
    }
   ],
   "source": [
    "df = pd.read_csv(\"Student_Performance.csv\", nrows = 100)\n",
    "\n",
    "print(df.head())"
   ]
  },
  {
   "cell_type": "code",
   "execution_count": 82,
   "id": "e8baa69b-ffd5-4754-bce9-5dffcb79c0bf",
   "metadata": {},
   "outputs": [
    {
     "name": "stderr",
     "output_type": "stream",
     "text": [
      "C:\\Users\\sashk\\AppData\\Local\\Temp\\ipykernel_9952\\1824996716.py:3: FutureWarning: Downcasting behavior in `replace` is deprecated and will be removed in a future version. To retain the old behavior, explicitly call `result.infer_objects(copy=False)`. To opt-in to the future behavior, set `pd.set_option('future.no_silent_downcasting', True)`\n",
      "  x_3 = df[\"Extracurricular Activities\"].replace({\"Yes\": 1, \"No\": 0})\n"
     ]
    }
   ],
   "source": [
    "x_1 = df[\"Hours Studied\"]\n",
    "x_2 = df[\"Previous Scores\"]\n",
    "x_3 = df[\"Extracurricular Activities\"].replace({\"Yes\": 1, \"No\": 0})\n",
    "x_4 = df[\"Sleep Hours\"]\n",
    "x_5 = df[\"Sample Question Papers Practiced\"]\n",
    "\n",
    "X_train = [x_1, x_2, x_3, x_4, x_5]\n",
    "\n",
    "y_train = df[\"Performance Index\"]\n"
   ]
  },
  {
   "cell_type": "code",
   "execution_count": 83,
   "id": "cf56cd34-640e-4596-8b60-0383781921d4",
   "metadata": {},
   "outputs": [],
   "source": [
    "w = [1 for i in range(100)]\n",
    "b = 10"
   ]
  },
  {
   "cell_type": "code",
   "execution_count": 84,
   "id": "ef4afa46-e05d-4670-be5b-a5f086e406f2",
   "metadata": {},
   "outputs": [],
   "source": [
    "def my_dot(x, w):\n",
    "    f_wb_i = 0\n",
    "    for i in range(len(x)):\n",
    "        f_wb_i = x[i] * w[i]\n",
    "\n",
    "    return f_wb_i"
   ]
  },
  {
   "cell_type": "code",
   "execution_count": 85,
   "id": "65643ee8-0db7-4ada-8280-0f1fab43264a",
   "metadata": {},
   "outputs": [],
   "source": [
    "def compute_cost(X, y, w, b):\n",
    "    cost = 0\n",
    "    m = len(X)\n",
    "    n = len(X[0])\n",
    "    \n",
    "    for i in range(m):\n",
    "        f_wb_i = my_dot(X[i], w) + b\n",
    "        \n",
    "        loss = (f_wb_i - y[i])**2\n",
    "        cost += loss\n",
    "\n",
    "        cost = cost / (2 * m)\n",
    "    return cost"
   ]
  },
  {
   "cell_type": "code",
   "execution_count": 86,
   "id": "a14f87e7-92f2-49c8-a02a-32d3df57e119",
   "metadata": {},
   "outputs": [],
   "source": [
    "def compute_gradient(X, y, w, b):\n",
    "    m = len(X)\n",
    "    n = len(X[0])\n",
    "\n",
    "    dj_dw = [0 for i in range(n)]\n",
    "    dj_db = 0\n",
    "    \n",
    "    for i in range(m):\n",
    "        f_wb_i = my_dot(X[i],w)\n",
    "        for j in range(n):\n",
    "            dj_dw[j] += (f_wb_i - y[j]) * X[i][j]\n",
    "            dj_db += f_wb_i - y[j]\n",
    "        \n",
    "            \n",
    "\n",
    "    return dj_dw, dj_db"
   ]
  },
  {
   "cell_type": "code",
   "execution_count": 101,
   "id": "9efccc65-174a-426d-9a00-2e8de9211e00",
   "metadata": {},
   "outputs": [],
   "source": [
    "def gradient_descent(X, y, w_in, b_in, gradient_function, cost_function, alpha, num_iters=1000):\n",
    "    J_history = []\n",
    "    w_history = []\n",
    "\n",
    "    w = w_in.copy()\n",
    "    b = b_in\n",
    "\n",
    "    n = len(X[0])\n",
    "    for t in range(num_iters):\n",
    "        for j in range(n):\n",
    "            dj_dw, dj_db = gradient_function(X, y, w, b)\n",
    "            w[j] = w[j] - alpha * dj_dw[j]\n",
    "            b = b - alpha * dj_db\n",
    "\n",
    "            cost = cost_function(X, y, w, b)\n",
    "            J_history.append(cost)\n",
    "\n",
    "            # if j % 100 == 0:\n",
    "            #     print(f\"iteration {j}\")\n",
    "\n",
    "        if t % math.ceil(num_iters / 10) == 0:\n",
    "            w_history.append(w)\n",
    "            \n",
    "    return w, b, J_history, w_history\n",
    "    "
   ]
  },
  {
   "cell_type": "code",
   "execution_count": 98,
   "id": "21605e17-8f17-48db-9793-a36baf0b4d97",
   "metadata": {},
   "outputs": [
    {
     "name": "stdout",
     "output_type": "stream",
     "text": [
      "3.164050396326718e+61\n"
     ]
    }
   ],
   "source": [
    "print(compute_cost(X_train, y_train, w, b))"
   ]
  },
  {
   "cell_type": "code",
   "execution_count": 102,
   "id": "5c83d9fb-d0ab-4bdb-9085-8d140bd25dac",
   "metadata": {},
   "outputs": [
    {
     "name": "stdout",
     "output_type": "stream",
     "text": [
      "1.0617716753454477e+43\n"
     ]
    }
   ],
   "source": [
    "w, b, _, _ = gradient_descent(X_train, y_train, w, b, compute_gradient, compute_cost, alpha=0.00001)\n",
    "print(compute_cost(X_train, y_train, w, b))"
   ]
  },
  {
   "cell_type": "code",
   "execution_count": null,
   "id": "8fb2ee73-e17f-409c-853b-c35c82355a34",
   "metadata": {},
   "outputs": [],
   "source": []
  }
 ],
 "metadata": {
  "kernelspec": {
   "display_name": "Python 3 (ipykernel)",
   "language": "python",
   "name": "python3"
  },
  "language_info": {
   "codemirror_mode": {
    "name": "ipython",
    "version": 3
   },
   "file_extension": ".py",
   "mimetype": "text/x-python",
   "name": "python",
   "nbconvert_exporter": "python",
   "pygments_lexer": "ipython3",
   "version": "3.12.7"
  }
 },
 "nbformat": 4,
 "nbformat_minor": 5
}
