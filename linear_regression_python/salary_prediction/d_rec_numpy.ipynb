{
 "cells": [
  {
   "cell_type": "code",
   "execution_count": 2,
   "id": "9aed999b-ca0e-4165-9cf5-de5ac16338b2",
   "metadata": {},
   "outputs": [],
   "source": [
    "import numpy as np\n",
    "import pandas as pd"
   ]
  },
  {
   "cell_type": "code",
   "execution_count": 4,
   "id": "002a3cef-48c5-4956-8601-c29149824190",
   "metadata": {},
   "outputs": [],
   "source": [
    "def softmax(z):\n",
    "    z_sum = 0\n",
    "    N = z.shape[0]\n",
    "\n",
    "    a = np.zeros((n,))\n",
    "\n",
    "    \n",
    "    for k in range(N):\n",
    "        z_k_exp = np.exp(z[k])\n",
    "        z_sum += z_k_exp\n",
    "\n",
    "    for j in range(N):\n",
    "        a[j] = np.exp(z[j]) / z_sum\n",
    "\n",
    "    return a"
   ]
  },
  {
   "cell_type": "code",
   "execution_count": 5,
   "id": "c963432c-7ff7-4186-9527-923c554f0083",
   "metadata": {},
   "outputs": [],
   "source": [
    "def relu(z):\n",
    "    return np.maximum(0, z)"
   ]
  },
  {
   "cell_type": "code",
   "execution_count": 6,
   "id": "da51595a-0f1c-4965-a2f3-6b1c66dc12d2",
   "metadata": {},
   "outputs": [],
   "source": [
    "def relu_derivative(z):\n",
    "    return (z > 0).astype(float)"
   ]
  },
  {
   "cell_type": "code",
   "execution_count": null,
   "id": "b1d5d811-fa67-4328-8af4-0ef2acaaa4e0",
   "metadata": {},
   "outputs": [],
   "source": []
  }
 ],
 "metadata": {
  "kernelspec": {
   "display_name": "Python - (sklearn-env)",
   "language": "python",
   "name": "sklearn-env"
  },
  "language_info": {
   "codemirror_mode": {
    "name": "ipython",
    "version": 3
   },
   "file_extension": ".py",
   "mimetype": "text/x-python",
   "name": "python",
   "nbconvert_exporter": "python",
   "pygments_lexer": "ipython3",
   "version": "3.11.7"
  }
 },
 "nbformat": 4,
 "nbformat_minor": 5
}
