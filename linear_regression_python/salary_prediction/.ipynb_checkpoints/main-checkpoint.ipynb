{
 "cells": [
  {
   "cell_type": "code",
   "execution_count": null,
   "id": "6f2dfc09-6fd4-4dd0-b8b9-8fb519427495",
   "metadata": {},
   "outputs": [],
   "source": [
    "import pandas as pd\n",
    "import matplotlib.pyplot as plt\n",
    "import math"
   ]
  },
  {
   "cell_type": "code",
   "execution_count": 2,
   "id": "9cdc0cd8-0ebc-49ce-a8e6-6f262a3a55eb",
   "metadata": {},
   "outputs": [
    {
     "name": "stdout",
     "output_type": "stream",
     "text": [
      "   Unnamed: 0  YearsExperience   Salary\n",
      "0           0              1.2  39344.0\n",
      "1           1              1.4  46206.0\n",
      "2           2              1.6  37732.0\n",
      "3           3              2.1  43526.0\n",
      "4           4              2.3  39892.0\n"
     ]
    }
   ],
   "source": [
    "# Load the dataset\n",
    "df = pd.read_csv(\"Salary_dataset.csv\")\n",
    "\n",
    "# Display first few rows\n",
    "\n",
    "print(df.head())\n",
    "\n",
    "\n"
   ]
  },
  {
   "cell_type": "code",
   "execution_count": 3,
   "id": "15e019be-2f91-4623-929a-262e93a9df74",
   "metadata": {},
   "outputs": [],
   "source": [
    "# i - example (of range m)\n",
    "# j - feature (of range n)\n",
    "\n",
    "# f_wb = w * x[i] + b\n",
    "\n",
    "# i need to\n",
    "# compute cost\n",
    "# compute gradient\n",
    "# compute gradient descent\n"
   ]
  },
  {
   "cell_type": "code",
   "execution_count": 6,
   "id": "7bdfa1ae-634e-4c53-9bb4-4d3b0e89ee67",
   "metadata": {},
   "outputs": [
    {
     "name": "stdout",
     "output_type": "stream",
     "text": [
      "0      39.344\n",
      "1      46.206\n",
      "2      37.732\n",
      "3      43.526\n",
      "4      39.892\n",
      "5      56.643\n",
      "6      60.151\n",
      "7      54.446\n",
      "8      64.446\n",
      "9      57.190\n",
      "10     63.219\n",
      "11     55.795\n",
      "12     56.958\n",
      "13     57.082\n",
      "14     61.112\n",
      "15     67.939\n",
      "16     66.030\n",
      "17     83.089\n",
      "18     81.364\n",
      "19     93.941\n",
      "20     91.739\n",
      "21     98.274\n",
      "22    101.303\n",
      "23    113.813\n",
      "24    109.432\n",
      "25    105.583\n",
      "26    116.970\n",
      "27    112.636\n",
      "28    122.392\n",
      "29    121.873\n",
      "Name: Salary, dtype: float64\n"
     ]
    },
    {
     "name": "stderr",
     "output_type": "stream",
     "text": [
      "C:\\Users\\sashk\\AppData\\Local\\Temp\\ipykernel_35560\\3092583280.py:7: SettingWithCopyWarning: \n",
      "A value is trying to be set on a copy of a slice from a DataFrame\n",
      "\n",
      "See the caveats in the documentation: https://pandas.pydata.org/pandas-docs/stable/user_guide/indexing.html#returning-a-view-versus-a-copy\n",
      "  y_train[i] = y_train[i] / 1000\n",
      "C:\\Users\\sashk\\AppData\\Local\\Temp\\ipykernel_35560\\3092583280.py:7: SettingWithCopyWarning: \n",
      "A value is trying to be set on a copy of a slice from a DataFrame\n",
      "\n",
      "See the caveats in the documentation: https://pandas.pydata.org/pandas-docs/stable/user_guide/indexing.html#returning-a-view-versus-a-copy\n",
      "  y_train[i] = y_train[i] / 1000\n",
      "C:\\Users\\sashk\\AppData\\Local\\Temp\\ipykernel_35560\\3092583280.py:7: SettingWithCopyWarning: \n",
      "A value is trying to be set on a copy of a slice from a DataFrame\n",
      "\n",
      "See the caveats in the documentation: https://pandas.pydata.org/pandas-docs/stable/user_guide/indexing.html#returning-a-view-versus-a-copy\n",
      "  y_train[i] = y_train[i] / 1000\n",
      "C:\\Users\\sashk\\AppData\\Local\\Temp\\ipykernel_35560\\3092583280.py:7: SettingWithCopyWarning: \n",
      "A value is trying to be set on a copy of a slice from a DataFrame\n",
      "\n",
      "See the caveats in the documentation: https://pandas.pydata.org/pandas-docs/stable/user_guide/indexing.html#returning-a-view-versus-a-copy\n",
      "  y_train[i] = y_train[i] / 1000\n",
      "C:\\Users\\sashk\\AppData\\Local\\Temp\\ipykernel_35560\\3092583280.py:7: SettingWithCopyWarning: \n",
      "A value is trying to be set on a copy of a slice from a DataFrame\n",
      "\n",
      "See the caveats in the documentation: https://pandas.pydata.org/pandas-docs/stable/user_guide/indexing.html#returning-a-view-versus-a-copy\n",
      "  y_train[i] = y_train[i] / 1000\n",
      "C:\\Users\\sashk\\AppData\\Local\\Temp\\ipykernel_35560\\3092583280.py:7: SettingWithCopyWarning: \n",
      "A value is trying to be set on a copy of a slice from a DataFrame\n",
      "\n",
      "See the caveats in the documentation: https://pandas.pydata.org/pandas-docs/stable/user_guide/indexing.html#returning-a-view-versus-a-copy\n",
      "  y_train[i] = y_train[i] / 1000\n",
      "C:\\Users\\sashk\\AppData\\Local\\Temp\\ipykernel_35560\\3092583280.py:7: SettingWithCopyWarning: \n",
      "A value is trying to be set on a copy of a slice from a DataFrame\n",
      "\n",
      "See the caveats in the documentation: https://pandas.pydata.org/pandas-docs/stable/user_guide/indexing.html#returning-a-view-versus-a-copy\n",
      "  y_train[i] = y_train[i] / 1000\n",
      "C:\\Users\\sashk\\AppData\\Local\\Temp\\ipykernel_35560\\3092583280.py:7: SettingWithCopyWarning: \n",
      "A value is trying to be set on a copy of a slice from a DataFrame\n",
      "\n",
      "See the caveats in the documentation: https://pandas.pydata.org/pandas-docs/stable/user_guide/indexing.html#returning-a-view-versus-a-copy\n",
      "  y_train[i] = y_train[i] / 1000\n",
      "C:\\Users\\sashk\\AppData\\Local\\Temp\\ipykernel_35560\\3092583280.py:7: SettingWithCopyWarning: \n",
      "A value is trying to be set on a copy of a slice from a DataFrame\n",
      "\n",
      "See the caveats in the documentation: https://pandas.pydata.org/pandas-docs/stable/user_guide/indexing.html#returning-a-view-versus-a-copy\n",
      "  y_train[i] = y_train[i] / 1000\n",
      "C:\\Users\\sashk\\AppData\\Local\\Temp\\ipykernel_35560\\3092583280.py:7: SettingWithCopyWarning: \n",
      "A value is trying to be set on a copy of a slice from a DataFrame\n",
      "\n",
      "See the caveats in the documentation: https://pandas.pydata.org/pandas-docs/stable/user_guide/indexing.html#returning-a-view-versus-a-copy\n",
      "  y_train[i] = y_train[i] / 1000\n",
      "C:\\Users\\sashk\\AppData\\Local\\Temp\\ipykernel_35560\\3092583280.py:7: SettingWithCopyWarning: \n",
      "A value is trying to be set on a copy of a slice from a DataFrame\n",
      "\n",
      "See the caveats in the documentation: https://pandas.pydata.org/pandas-docs/stable/user_guide/indexing.html#returning-a-view-versus-a-copy\n",
      "  y_train[i] = y_train[i] / 1000\n",
      "C:\\Users\\sashk\\AppData\\Local\\Temp\\ipykernel_35560\\3092583280.py:7: SettingWithCopyWarning: \n",
      "A value is trying to be set on a copy of a slice from a DataFrame\n",
      "\n",
      "See the caveats in the documentation: https://pandas.pydata.org/pandas-docs/stable/user_guide/indexing.html#returning-a-view-versus-a-copy\n",
      "  y_train[i] = y_train[i] / 1000\n",
      "C:\\Users\\sashk\\AppData\\Local\\Temp\\ipykernel_35560\\3092583280.py:7: SettingWithCopyWarning: \n",
      "A value is trying to be set on a copy of a slice from a DataFrame\n",
      "\n",
      "See the caveats in the documentation: https://pandas.pydata.org/pandas-docs/stable/user_guide/indexing.html#returning-a-view-versus-a-copy\n",
      "  y_train[i] = y_train[i] / 1000\n",
      "C:\\Users\\sashk\\AppData\\Local\\Temp\\ipykernel_35560\\3092583280.py:7: SettingWithCopyWarning: \n",
      "A value is trying to be set on a copy of a slice from a DataFrame\n",
      "\n",
      "See the caveats in the documentation: https://pandas.pydata.org/pandas-docs/stable/user_guide/indexing.html#returning-a-view-versus-a-copy\n",
      "  y_train[i] = y_train[i] / 1000\n",
      "C:\\Users\\sashk\\AppData\\Local\\Temp\\ipykernel_35560\\3092583280.py:7: SettingWithCopyWarning: \n",
      "A value is trying to be set on a copy of a slice from a DataFrame\n",
      "\n",
      "See the caveats in the documentation: https://pandas.pydata.org/pandas-docs/stable/user_guide/indexing.html#returning-a-view-versus-a-copy\n",
      "  y_train[i] = y_train[i] / 1000\n",
      "C:\\Users\\sashk\\AppData\\Local\\Temp\\ipykernel_35560\\3092583280.py:7: SettingWithCopyWarning: \n",
      "A value is trying to be set on a copy of a slice from a DataFrame\n",
      "\n",
      "See the caveats in the documentation: https://pandas.pydata.org/pandas-docs/stable/user_guide/indexing.html#returning-a-view-versus-a-copy\n",
      "  y_train[i] = y_train[i] / 1000\n",
      "C:\\Users\\sashk\\AppData\\Local\\Temp\\ipykernel_35560\\3092583280.py:7: SettingWithCopyWarning: \n",
      "A value is trying to be set on a copy of a slice from a DataFrame\n",
      "\n",
      "See the caveats in the documentation: https://pandas.pydata.org/pandas-docs/stable/user_guide/indexing.html#returning-a-view-versus-a-copy\n",
      "  y_train[i] = y_train[i] / 1000\n",
      "C:\\Users\\sashk\\AppData\\Local\\Temp\\ipykernel_35560\\3092583280.py:7: SettingWithCopyWarning: \n",
      "A value is trying to be set on a copy of a slice from a DataFrame\n",
      "\n",
      "See the caveats in the documentation: https://pandas.pydata.org/pandas-docs/stable/user_guide/indexing.html#returning-a-view-versus-a-copy\n",
      "  y_train[i] = y_train[i] / 1000\n",
      "C:\\Users\\sashk\\AppData\\Local\\Temp\\ipykernel_35560\\3092583280.py:7: SettingWithCopyWarning: \n",
      "A value is trying to be set on a copy of a slice from a DataFrame\n",
      "\n",
      "See the caveats in the documentation: https://pandas.pydata.org/pandas-docs/stable/user_guide/indexing.html#returning-a-view-versus-a-copy\n",
      "  y_train[i] = y_train[i] / 1000\n",
      "C:\\Users\\sashk\\AppData\\Local\\Temp\\ipykernel_35560\\3092583280.py:7: SettingWithCopyWarning: \n",
      "A value is trying to be set on a copy of a slice from a DataFrame\n",
      "\n",
      "See the caveats in the documentation: https://pandas.pydata.org/pandas-docs/stable/user_guide/indexing.html#returning-a-view-versus-a-copy\n",
      "  y_train[i] = y_train[i] / 1000\n",
      "C:\\Users\\sashk\\AppData\\Local\\Temp\\ipykernel_35560\\3092583280.py:7: SettingWithCopyWarning: \n",
      "A value is trying to be set on a copy of a slice from a DataFrame\n",
      "\n",
      "See the caveats in the documentation: https://pandas.pydata.org/pandas-docs/stable/user_guide/indexing.html#returning-a-view-versus-a-copy\n",
      "  y_train[i] = y_train[i] / 1000\n",
      "C:\\Users\\sashk\\AppData\\Local\\Temp\\ipykernel_35560\\3092583280.py:7: SettingWithCopyWarning: \n",
      "A value is trying to be set on a copy of a slice from a DataFrame\n",
      "\n",
      "See the caveats in the documentation: https://pandas.pydata.org/pandas-docs/stable/user_guide/indexing.html#returning-a-view-versus-a-copy\n",
      "  y_train[i] = y_train[i] / 1000\n",
      "C:\\Users\\sashk\\AppData\\Local\\Temp\\ipykernel_35560\\3092583280.py:7: SettingWithCopyWarning: \n",
      "A value is trying to be set on a copy of a slice from a DataFrame\n",
      "\n",
      "See the caveats in the documentation: https://pandas.pydata.org/pandas-docs/stable/user_guide/indexing.html#returning-a-view-versus-a-copy\n",
      "  y_train[i] = y_train[i] / 1000\n",
      "C:\\Users\\sashk\\AppData\\Local\\Temp\\ipykernel_35560\\3092583280.py:7: SettingWithCopyWarning: \n",
      "A value is trying to be set on a copy of a slice from a DataFrame\n",
      "\n",
      "See the caveats in the documentation: https://pandas.pydata.org/pandas-docs/stable/user_guide/indexing.html#returning-a-view-versus-a-copy\n",
      "  y_train[i] = y_train[i] / 1000\n",
      "C:\\Users\\sashk\\AppData\\Local\\Temp\\ipykernel_35560\\3092583280.py:7: SettingWithCopyWarning: \n",
      "A value is trying to be set on a copy of a slice from a DataFrame\n",
      "\n",
      "See the caveats in the documentation: https://pandas.pydata.org/pandas-docs/stable/user_guide/indexing.html#returning-a-view-versus-a-copy\n",
      "  y_train[i] = y_train[i] / 1000\n",
      "C:\\Users\\sashk\\AppData\\Local\\Temp\\ipykernel_35560\\3092583280.py:7: SettingWithCopyWarning: \n",
      "A value is trying to be set on a copy of a slice from a DataFrame\n",
      "\n",
      "See the caveats in the documentation: https://pandas.pydata.org/pandas-docs/stable/user_guide/indexing.html#returning-a-view-versus-a-copy\n",
      "  y_train[i] = y_train[i] / 1000\n",
      "C:\\Users\\sashk\\AppData\\Local\\Temp\\ipykernel_35560\\3092583280.py:7: SettingWithCopyWarning: \n",
      "A value is trying to be set on a copy of a slice from a DataFrame\n",
      "\n",
      "See the caveats in the documentation: https://pandas.pydata.org/pandas-docs/stable/user_guide/indexing.html#returning-a-view-versus-a-copy\n",
      "  y_train[i] = y_train[i] / 1000\n",
      "C:\\Users\\sashk\\AppData\\Local\\Temp\\ipykernel_35560\\3092583280.py:7: SettingWithCopyWarning: \n",
      "A value is trying to be set on a copy of a slice from a DataFrame\n",
      "\n",
      "See the caveats in the documentation: https://pandas.pydata.org/pandas-docs/stable/user_guide/indexing.html#returning-a-view-versus-a-copy\n",
      "  y_train[i] = y_train[i] / 1000\n",
      "C:\\Users\\sashk\\AppData\\Local\\Temp\\ipykernel_35560\\3092583280.py:7: SettingWithCopyWarning: \n",
      "A value is trying to be set on a copy of a slice from a DataFrame\n",
      "\n",
      "See the caveats in the documentation: https://pandas.pydata.org/pandas-docs/stable/user_guide/indexing.html#returning-a-view-versus-a-copy\n",
      "  y_train[i] = y_train[i] / 1000\n",
      "C:\\Users\\sashk\\AppData\\Local\\Temp\\ipykernel_35560\\3092583280.py:7: SettingWithCopyWarning: \n",
      "A value is trying to be set on a copy of a slice from a DataFrame\n",
      "\n",
      "See the caveats in the documentation: https://pandas.pydata.org/pandas-docs/stable/user_guide/indexing.html#returning-a-view-versus-a-copy\n",
      "  y_train[i] = y_train[i] / 1000\n"
     ]
    }
   ],
   "source": [
    "# using x and not X here because it is a 1-D array\n",
    "# (there is only one x per row and i didn't convert it to matrix so it is a vector)\n",
    "x_train = df[\"YearsExperience\"]\n",
    "\n",
    "y_train = df[\"Salary\"]\n",
    "for i in range(len(y_train)):\n",
    "    y_train[i] = y_train[i] / 1000\n",
    "    \n",
    "df.rename(columns={\"Salary\": \"Salary (in 1000$)\"}, inplace=True)\n",
    "print(y_train)\n"
   ]
  },
  {
   "cell_type": "code",
   "execution_count": 7,
   "id": "315ee7bc-fee5-4431-9a5c-712bc8be36ca",
   "metadata": {},
   "outputs": [],
   "source": [
    "def compute_cost(x, y, w, b):\n",
    "    m = len(x)\n",
    "\n",
    "    cost = 0\n",
    "    for i in range(m):\n",
    "        f_wb = w * x[i] + b\n",
    "        loss = (f_wb - y[i])**2\n",
    "\n",
    "        cost += loss\n",
    "\n",
    "    return cost / (2 * m)"
   ]
  },
  {
   "cell_type": "code",
   "execution_count": 8,
   "id": "8522ddcb-a674-4b06-b606-9baa633f386e",
   "metadata": {},
   "outputs": [],
   "source": [
    "def compute_gradient(x, y, w, b):\n",
    "    m = len(x)\n",
    "\n",
    "    dj_dw = 0\n",
    "    dj_db = 0\n",
    "\n",
    "    for i in range(m):\n",
    "        f_wb = w * x[i] + b\n",
    "        dj_dw_i = (f_wb - y[i]) * x[i]\n",
    "        dj_db_i = f_wb - y[i]\n",
    "\n",
    "        dj_dw += dj_dw_i\n",
    "        dj_db += dj_db_i\n",
    "\n",
    "    dj_dw = dj_dw / m\n",
    "    dj_db = dj_db / m\n",
    "\n",
    "    return dj_dw, dj_db"
   ]
  },
  {
   "cell_type": "code",
   "execution_count": 9,
   "id": "279cd242-20df-4808-aaeb-ded683422db0",
   "metadata": {},
   "outputs": [
    {
     "name": "stdout",
     "output_type": "stream",
     "text": [
      "65.33291999999999 12.716\n"
     ]
    }
   ],
   "source": [
    "# why are we even using derivative and what are we getting with it exactly\n",
    "\n",
    "initial_w = 9\n",
    "initial_b = 40\n",
    "\n",
    "tmp_dj_dw, tmp_dj_db = compute_gradient(x_train, y_train, initial_w, initial_b)\n",
    "\n",
    "print(tmp_dj_dw, tmp_dj_db)"
   ]
  },
  {
   "cell_type": "code",
   "execution_count": null,
   "id": "8492f91c-e3bf-49cd-9ae6-479e81a61259",
   "metadata": {},
   "outputs": [],
   "source": [
    "def gradient_descent(x, y, w_in, b_in, cost_function, gradient_function, alpha, num_iters):\n",
    "    w = w_in\n",
    "    b = b_in\n",
    "\n",
    "    J_history = []\n",
    "    w_history = []\n",
    "    for i in range(num_iters):\n",
    "        dj_dw, dj_db = gradient_function(x, y, w, b)\n",
    "        w = w - alpha * dj_dw\n",
    "        b = b - alpha * dj_db\n",
    "\n",
    "        cost = cost_function(x, y, w, b)\n",
    "        J_history.append(cost)\n",
    "\n",
    "        # if i is, for example, 20 | 20 % ceil(95 / 10) = 0 (20 % 10 = 0)\n",
    "        if i % math.ceil(num_iters / 10) == 0:\n",
    "            w_history.append(w)\n",
    "\n",
    "    return w, b, J_history, w_history\n",
    "        "
   ]
  },
  {
   "cell_type": "code",
   "execution_count": 13,
   "id": "b1d868d5-e7c7-43be-8c52-530b3bde3003",
   "metadata": {},
   "outputs": [
    {
     "name": "stdout",
     "output_type": "stream",
     "text": [
      "18.483122683529984\n"
     ]
    }
   ],
   "source": [
    "w, b, _, _ = gradient_descent(x_train, y_train, initial_w, initial_b, compute_cost, compute_gradient, 0.052, 100)\n",
    "print(compute_cost(x_train, y_train, w, b))"
   ]
  },
  {
   "cell_type": "code",
   "execution_count": 16,
   "id": "e8e71099-4806-4c64-90e0-2233f82d63af",
   "metadata": {},
   "outputs": [],
   "source": [
    "predicted = []\n",
    "m = len(x_train)\n",
    "for i in range(m):\n",
    "    # remember that f_wb is a funciton of prediction; now that we have computed w and b, we can predict the x values\n",
    "    predicted.append(w * x_train[i] + b)"
   ]
  },
  {
   "cell_type": "code",
   "execution_count": 17,
   "id": "9d33c57a-259f-4ebe-8f04-09ff1d5bc470",
   "metadata": {},
   "outputs": [
    {
     "data": {
      "text/plain": [
       "Text(0.5, 0, 'Years of experience')"
      ]
     },
     "execution_count": 17,
     "metadata": {},
     "output_type": "execute_result"
    },
    {
     "data": {
      "image/png": "[encoded data removed]",
      "text/plain": [
       "<Figure size 640x480 with 1 Axes>"
      ]
     },
     "metadata": {},
     "output_type": "display_data"
    }
   ],
   "source": [
    "# Plot the linear fit\n",
    "plt.plot(x_train, predicted, c = \"b\")\n",
    "# Create a scatter plot of the data. \n",
    "plt.scatter(x_train, y_train, marker='x', c='r') \n",
    "\n",
    "# Set the title\n",
    "plt.title(\"Salary Dataset\")\n",
    "# Set the y-axis label\n",
    "plt.ylabel('Salary (in $1000)')\n",
    "# Set the x-axis label\n",
    "plt.xlabel('Years of experience')"
   ]
  },
  {
   "cell_type": "code",
   "execution_count": 19,
   "id": "25f296e6-a3db-4110-a878-80d8be5ddc1f",
   "metadata": {},
   "outputs": [
    {
     "name": "stdout",
     "output_type": "stream",
     "text": [
      "For 2 years of experience we predict a salary of 44.00464754243839\n",
      "Actual salary: 37.732\n"
     ]
    }
   ],
   "source": [
    "print(f\"For 2 years of experience we predict a salary of {predicted[2]}\")\n",
    "print(f\"Actual salary: {y_train[2]}\")"
   ]
  },
  {
   "cell_type": "code",
   "execution_count": null,
   "id": "ec692b59-e95c-459b-b6af-702e302e8383",
   "metadata": {},
   "outputs": [],
   "source": []
  }
 ],
 "metadata": {
  "kernelspec": {
   "display_name": "Python 3 (ipykernel)",
   "language": "python",
   "name": "python3"
  },
  "language_info": {
   "codemirror_mode": {
    "name": "ipython",
    "version": 3
   },
   "file_extension": ".py",
   "mimetype": "text/x-python",
   "name": "python",
   "nbconvert_exporter": "python",
   "pygments_lexer": "ipython3",
   "version": "3.12.7"
  }
 },
 "nbformat": 4,
 "nbformat_minor": 5
}
