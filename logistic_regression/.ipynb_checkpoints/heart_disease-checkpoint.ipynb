{
 "cells": [
  {
   "cell_type": "code",
   "execution_count": 1,
   "id": "58dfdadc-22e2-4dbd-85f7-415b50b2d702",
   "metadata": {},
   "outputs": [],
   "source": [
    "import pandas as pd\n",
    "import numpy as np\n",
    "import matplotlib.pyplot as plt\n",
    "import math"
   ]
  },
  {
   "cell_type": "code",
   "execution_count": 38,
   "id": "d7eb4e65-dd77-4057-8531-f543ea909525",
   "metadata": {},
   "outputs": [
    {
     "name": "stdout",
     "output_type": "stream",
     "text": [
      "3656\n",
      "(3656,)\n",
      "[[  1.  39.   4. ...  77.  39.  16.]\n",
      " [  0.  46.   2. ...  76.   0.   4.]\n",
      " [  1.  48.   1. ...  70.  48.   1.]\n",
      " ...\n",
      " [  1.  50.   1. ...  86.  50.   1.]\n",
      " [  1.  51.   3. ...  68.  51.   9.]\n",
      " [  0.  52.   2. ... 107.   0.   4.]]\n"
     ]
    }
   ],
   "source": [
    "df = pd.read_csv(\"framingham.csv\")\n",
    "\n",
    "# List all the feature column names\n",
    "feature_cols = [\n",
    "    \"male\", \"age\", \"education\", \"currentSmoker\", \"cigsPerDay\", \"BPMeds\",\n",
    "    \"prevalentStroke\", \"prevalentHyp\", \"diabetes\", \"totChol\", \"sysBP\",\n",
    "    \"diaBP\", \"BMI\", \"heartRate\", \"glucose\"\n",
    "]\n",
    "\n",
    "df_cleaned = df.dropna()\n",
    "# print(\"Any NaN in X:\", np.isnan(df).any())\n",
    "\n",
    "# Extract all features at once\n",
    "X_train = df_cleaned[feature_cols].values  # Converts to a NumPy array\n",
    "X_train = np.column_stack([X_train, X_train[:, 0] * X_train[:, 1], X_train[:, 2]**2])\n",
    "\n",
    "\n",
    "# Extract target variable\n",
    "y_train = df_cleaned[\"TenYearCHD\"].values  # Converts target column to NumPy array\n",
    "\n",
    "\n",
    "\n",
    "print(X_train.shape[0])\n",
    "print(y_train.shape)\n",
    "\n",
    "print(X_train)\n",
    "\n",
    "# print(\"Checking for NaN or Inf in X and y...\")\n",
    "# print(\"Any NaN in X:\", np.isnan(X_train).any())\n",
    "# print(\"Any NaN in y:\", np.isnan(y_train).any())\n",
    "# print(\"Any Inf in X:\", np.isinf(X_train).any())\n",
    "# print(\"Any Inf in y:\", np.isinf(y_train).any())\n",
    "# print(df.head())"
   ]
  },
  {
   "cell_type": "code",
   "execution_count": 3,
   "id": "6545e8a7-4587-4995-b502-6483cb1ff787",
   "metadata": {},
   "outputs": [],
   "source": [
    "# def normalize(X):\n",
    "#     x_min = X.min(axis=0)\n",
    "#     x_max = X.max(axis=0)\n",
    "\n",
    "#     return (X - x_min) / (x_max - x_min)\n",
    "\n",
    "def normalize(X):\n",
    "    X_scaled = (X - X.mean(axis=0)) / X.std(axis=0)\n",
    "\n",
    "    return X_scaled"
   ]
  },
  {
   "cell_type": "code",
   "execution_count": 44,
   "id": "c16be35a-a179-47d4-8989-9520802b3961",
   "metadata": {},
   "outputs": [
    {
     "name": "stdout",
     "output_type": "stream",
     "text": [
      "[[ 1.11982472 -1.23335117  1.97575158 ... -0.20312694  0.6804393\n",
      "   2.27007553]\n",
      " [-0.8929969  -0.41559058  0.01979497 ... -0.24495595 -0.86986761\n",
      "  -0.19851345]\n",
      " [ 1.11982472 -0.1819447  -0.95818334 ... -0.49592996  1.03820243\n",
      "  -0.81566069]\n",
      " ...\n",
      " [ 1.11982472  0.05170118 -0.95818334 ...  0.17333408  1.11770535\n",
      "  -0.81566069]\n",
      " [ 1.11982472  0.16852412  0.99777327 ... -0.57958797  1.15745681\n",
      "   0.83006529]\n",
      " [-0.8929969   0.28534706  0.01979497 ...  1.05174313 -0.86986761\n",
      "  -0.19851345]]\n"
     ]
    }
   ],
   "source": [
    "X_train = normalize(X_train)\n",
    "\n",
    "print(X_train)"
   ]
  },
  {
   "cell_type": "code",
   "execution_count": 5,
   "id": "cfec2013-4b77-4874-a507-d6b1b1cef85a",
   "metadata": {},
   "outputs": [],
   "source": [
    "def sigmoid(z):\n",
    "    if np.isinf(np.exp(-z).any()):\n",
    "        print(z)\n",
    "    g_of_z = 1/(1+np.exp(-z))\n",
    "    return g_of_z\n",
    "    "
   ]
  },
  {
   "cell_type": "code",
   "execution_count": 6,
   "id": "4b0f601c-65f6-4991-b67e-7c0da4103243",
   "metadata": {},
   "outputs": [],
   "source": [
    "def compute_cost(X, y, w, b, lambda_=1, weight_1=5, *argv):\n",
    "    m = X.shape[0]\n",
    "    cost = 0\n",
    "    epsilon = 1e-10  # Small constant to prevent log(0)\n",
    "\n",
    "    for i in range(m):\n",
    "        z_wb_x_i = np.dot(X[i], w) + b\n",
    "        f_wb_i = sigmoid(z_wb_x_i)\n",
    "\n",
    "        # Clip f_wb_i to avoid log(0)\n",
    "        f_wb_i = np.clip(f_wb_i, epsilon, 1 - epsilon)\n",
    "\n",
    "        if y[i] == 1:\n",
    "            loss = -weight_1 * np.log(f_wb_i)\n",
    "        else:\n",
    "            loss = np.log(1 - f_wb_i)\n",
    "            \n",
    "        # loss = -y[i] * np.log(f_wb_i) - (1 - y[i]) * np.log(1 - f_wb_i)\n",
    "        cost += loss\n",
    "\n",
    "    return cost / m"
   ]
  },
  {
   "cell_type": "code",
   "execution_count": 7,
   "id": "42b32fdb-032d-41f4-bf13-234fe2210a63",
   "metadata": {},
   "outputs": [
    {
     "name": "stdout",
     "output_type": "stream",
     "text": [
      "[-2.52360201 -2.51430576 -2.57694055 -2.56500053 -2.51763453 -2.45631541\n",
      " -2.42733651 -2.42361494 -2.4514277  -2.54414467 -2.42835133 -2.45738816\n",
      " -2.52236595 -2.5788566  -2.41531602]\n"
     ]
    }
   ],
   "source": [
    "print(compute_cost(X_train, y_train, 3, 3))"
   ]
  },
  {
   "cell_type": "code",
   "execution_count": 8,
   "id": "44cda09a-0411-41ee-8229-bb06a3c4316a",
   "metadata": {},
   "outputs": [],
   "source": [
    "def compute_gradient(X, y, w, b, lambda_, beta = 5, *argv):\n",
    "    m, n = X.shape\n",
    "    dj_dw = np.zeros((n,))\n",
    "    dj_db = 0.\n",
    "\n",
    "    for i in range(m):\n",
    "        z_wb_i = np.dot(X[i], w) + b\n",
    "        f_wb_i = sigmoid(z_wb_i)\n",
    "        err = f_wb_i - y[i]\n",
    "\n",
    "        weight = beta if y[i] == 1 else 1 \n",
    "        for j in range(n):\n",
    "            dj_dw[j] += weight * err * X[i][j]\n",
    "        dj_db += weight * err\n",
    "\n",
    "    return dj_dw, dj_db\n",
    "            "
   ]
  },
  {
   "cell_type": "code",
   "execution_count": 57,
   "id": "fcf33387-f3e9-44e5-a200-4f1c522b3698",
   "metadata": {},
   "outputs": [],
   "source": [
    "def gradient_descent(X, y, w_in, b_in, cost_function, gradient_function, alpha, num_iters, lambda_ = 1): \n",
    "    w = w_in.copy()\n",
    "    b = b_in\n",
    "\n",
    "    J_history = []\n",
    "    w_history = []\n",
    "\n",
    "    # for i in range(num_iters):\n",
    "    #     dj_dw, dj_db = gradient_function(X, y, w, b, lambda_)\n",
    "\n",
    "    #     w = w - alpha * dj_dw\n",
    "    #     b = b - alpha * dj_db\n",
    "\n",
    "    v_dw = np.zeros_like(w)\n",
    "    beta_momentum = 0.9  # Momentum coefficient\n",
    "\n",
    "    for i in range(num_iters):\n",
    "        dj_dw, dj_db = compute_gradient_reg(X, y, w, b, lambda_)\n",
    "        \n",
    "        v_dw = beta_momentum * v_dw + (1 - beta_momentum) * dj_dw  # Update with momentum\n",
    "        w = w - alpha * v_dw\n",
    "        b = b - alpha * dj_db\n",
    "\n",
    "\n",
    "        cost = cost_function(X, y, w, b, lambda_)\n",
    "\n",
    "        if i % 100 == 0:\n",
    "            print(cost)\n",
    "\n",
    "        J_history.append(cost)\n",
    "\n",
    "    return w, b, J_history"
   ]
  },
  {
   "cell_type": "code",
   "execution_count": 10,
   "id": "d8473493-18f6-4971-8b80-9728adcbeaa2",
   "metadata": {},
   "outputs": [],
   "source": [
    "def compute_cost_reg(X, y, w, b, lambda_ = 1):\n",
    "    cost = compute_cost(X, y, w, b)\n",
    "\n",
    "    m, n = X.shape\n",
    "    reg_cost = 0\n",
    "\n",
    "    for j in range(n):\n",
    "        reg_cost += w[j] ** 2\n",
    "\n",
    "    reg_cost = reg_cost * (lambda_ / (2 * m))\n",
    "\n",
    "    total_cost = reg_cost + cost\n",
    "\n",
    "    return total_cost"
   ]
  },
  {
   "cell_type": "code",
   "execution_count": 41,
   "id": "1e8bd5fa-fd6b-4de3-8e06-93fd467bb506",
   "metadata": {},
   "outputs": [],
   "source": [
    "def compute_gradient_reg(X, y, w, b, lambda_ = 1, beta=5):\n",
    "    dj_dw, dj_db = compute_gradient(X, y, w, b, lambda_, beta)\n",
    "\n",
    "    m,n = X.shape\n",
    "\n",
    "    for j in range(n):\n",
    "        dj_dw[j] += (lambda_ / m) * w[j]\n",
    "\n",
    "    return dj_dw, dj_db\n"
   ]
  },
  {
   "cell_type": "code",
   "execution_count": 58,
   "id": "40d0a14c-9595-42ab-b91e-9bdcaac975d9",
   "metadata": {},
   "outputs": [
    {
     "name": "stdout",
     "output_type": "stream",
     "text": [
      "-0.003898867858012504\n",
      "0.01856858487633322\n",
      "[ 0.09179708  0.52542643 -0.41521027  0.06661049  0.20550252  0.04281004\n",
      "  0.0507856   0.11445817  0.0224065   0.10792047  0.31610192 -0.03667459\n",
      "  0.03549317 -0.03629045  0.13888708  0.15694899  0.34617427] -0.3849439163028156\n"
     ]
    }
   ],
   "source": [
    "w_in = np.zeros(X_train.shape[1])\n",
    "b_in = 0.\n",
    "alpha = 0.001\n",
    "lambda_ = 0.01\n",
    "\n",
    "# w, b, J_history = gradient_descent(X_train, y_train, w_in, b_in, compute_cost, compute_gradient, alpha, 1000)\n",
    "w, b, J_history = gradient_descent(X_train, y_train, w_in, b_in, compute_cost_reg, compute_gradient_reg, alpha, 200, lambda_)\n",
    "\n",
    "\n",
    "print(w, b)"
   ]
  },
  {
   "cell_type": "code",
   "execution_count": 78,
   "id": "56a14c66-8bd2-45b1-bc78-2a39c486fe00",
   "metadata": {},
   "outputs": [],
   "source": [
    "def predict(X, w, b):\n",
    "    m = X.shape[0]\n",
    "    p = np.zeros((m,))\n",
    "\n",
    "\n",
    "    for i in range(m):\n",
    "        z_wb_i = np.dot(X[i], w) + b\n",
    "        f_wb_i = sigmoid(z_wb_i)\n",
    "\n",
    "        if f_wb_i >= 0.5:\n",
    "            # print(f_wb_i)\n",
    "            p[i] = 1\n",
    "        else:\n",
    "            p[i] = 0\n",
    "\n",
    "    return p\n",
    "\n",
    "    "
   ]
  },
  {
   "cell_type": "code",
   "execution_count": 79,
   "id": "2b5c0cbd-07f4-4e7f-b063-881e6fb66b31",
   "metadata": {},
   "outputs": [],
   "source": [
    "def compare_with_actual_values(p, y):\n",
    "    m = p.shape[0]\n",
    "\n",
    "    y_length = y.shape[0]\n",
    "    got_correct = 0\n",
    "    for i in range(m):\n",
    "        # print(p[i])\n",
    "        if p[i] == y[i]:\n",
    "            got_correct += 1\n",
    "        # else:\n",
    "            # print(p[i], y[i])\n",
    "\n",
    "    return f\"Number of examples: {y_length}, got correct: {got_correct}.\""
   ]
  },
  {
   "cell_type": "code",
   "execution_count": 80,
   "id": "edaa820b-4cd2-49b3-a7e5-fd2e490007a7",
   "metadata": {},
   "outputs": [],
   "source": [
    "def ratio_of_ones_to_examples(y):\n",
    "    count = 0\n",
    "    \n",
    "    for number in y:\n",
    "        if number == 1:\n",
    "            count += 1\n",
    "\n",
    "    return count / y.shape[0]"
   ]
  },
  {
   "cell_type": "code",
   "execution_count": 81,
   "id": "0a81ce3d-3e22-434d-a06b-15b8d4d012e5",
   "metadata": {},
   "outputs": [
    {
     "name": "stdout",
     "output_type": "stream",
     "text": [
      "Number of examples: 3656, got correct: 2595.\n"
     ]
    }
   ],
   "source": [
    "p = predict(X_train, w, b)\n",
    "print(compare_with_actual_values(p, y_train))"
   ]
  },
  {
   "cell_type": "code",
   "execution_count": 82,
   "id": "15ff90b1-384d-4923-a651-da57c14f51f3",
   "metadata": {},
   "outputs": [
    {
     "name": "stdout",
     "output_type": "stream",
     "text": [
      "0.15235229759299782\n"
     ]
    }
   ],
   "source": [
    "print(ratio_of_ones_to_examples(y_train))"
   ]
  },
  {
   "cell_type": "code",
   "execution_count": 83,
   "id": "3e18212e-5952-459d-b466-b2337407a9dd",
   "metadata": {},
   "outputs": [
    {
     "name": "stdout",
     "output_type": "stream",
     "text": [
      "[[2231  868]\n",
      " [ 193  364]]\n"
     ]
    }
   ],
   "source": [
    "from sklearn.metrics import confusion_matrix\n",
    "\n",
    "conf_matrix = confusion_matrix(y_train, p)\n",
    "print(conf_matrix)\n"
   ]
  },
  {
   "cell_type": "code",
   "execution_count": 182,
   "id": "16fdf6fe-5376-4902-8fbe-609dfef23969",
   "metadata": {},
   "outputs": [
    {
     "name": "stdout",
     "output_type": "stream",
     "text": [
      "Precision: 0.3883\n",
      "Recall: 0.2873\n",
      "F1 Score: 0.3302\n"
     ]
    }
   ],
   "source": [
    "from sklearn.metrics import precision_score, recall_score, f1_score\n",
    "\n",
    "precision = precision_score(y_train, p)\n",
    "recall = recall_score(y_train, p)\n",
    "f1 = f1_score(y_train, p)\n",
    "\n",
    "print(f\"Precision: {precision:.4f}\")  # How many predicted 1s were correct?\n",
    "print(f\"Recall: {recall:.4f}\")  # How many actual 1s did we catch?\n",
    "print(f\"F1 Score: {f1:.4f}\")  # Balance between precision and recall\n"
   ]
  },
  {
   "cell_type": "code",
   "execution_count": 183,
   "id": "b22ca553-29c9-4437-831c-a86e79c678de",
   "metadata": {},
   "outputs": [
    {
     "name": "stdout",
     "output_type": "stream",
     "text": [
      "Threshold 0.3: Precision = 0.3883, Recall = 0.2873, F1 = 0.3302\n",
      "Threshold 0.4: Precision = 0.4602, Recall = 0.1454, F1 = 0.2210\n",
      "Threshold 0.5: Precision = 0.7302, Recall = 0.0826, F1 = 0.1484\n",
      "Threshold 0.6: Precision = 0.8421, Recall = 0.0287, F1 = 0.0556\n",
      "Threshold 0.7: Precision = 0.8571, Recall = 0.0108, F1 = 0.0213\n"
     ]
    }
   ],
   "source": [
    "thresholds = [0.3, 0.4, 0.5, 0.6, 0.7]\n",
    "for t in thresholds:\n",
    "    preds = (sigmoid(np.dot(X_train, w) + b) >= t).astype(int)\n",
    "    print(f\"Threshold {t}: Precision = {precision_score(y_train, preds):.4f}, Recall = {recall_score(y_train, preds):.4f}, F1 = {f1_score(y_train, preds):.4f}\")\n"
   ]
  },
  {
   "cell_type": "code",
   "execution_count": 16,
   "id": "957dbc04-8215-4696-89a7-7f17d1088b77",
   "metadata": {},
   "outputs": [
    {
     "data": {
      "image/png": "[encoded data removed]",
      "text/plain": [
       "<Figure size 1200x400 with 2 Axes>"
      ]
     },
     "metadata": {},
     "output_type": "display_data"
    }
   ],
   "source": [
    "fig, (ax1, ax2) = plt.subplots(1, 2, constrained_layout=True, figsize=(12, 4))\n",
    "ax1.plot(J_history)\n",
    "ax2.plot(100 + np.arange(len(J_history[100:])), J_history[100:])\n",
    "ax1.set_title(\"Cost vs. iteration\");  ax2.set_title(\"Cost vs. iteration (tail)\")\n",
    "ax1.set_ylabel('Cost')             ;  ax2.set_ylabel('Cost') \n",
    "ax1.set_xlabel('iteration step')   ;  ax2.set_xlabel('iteration step') \n",
    "plt.show()"
   ]
  },
  {
   "cell_type": "code",
   "execution_count": 70,
   "id": "cc407544-6fa2-4c82-9760-0b6ee59bb897",
   "metadata": {},
   "outputs": [
    {
     "name": "stdout",
     "output_type": "stream",
     "text": [
      "Sklearn accuracy: 0.8544857768052516\n"
     ]
    }
   ],
   "source": [
    "from sklearn.linear_model import LogisticRegression\n",
    "\n",
    "model = LogisticRegression()\n",
    "model.fit(X_train, y_train)\n",
    "print(\"Sklearn accuracy:\", model.score(X_train, y_train))\n"
   ]
  },
  {
   "cell_type": "code",
   "execution_count": 17,
   "id": "e1c456fb-5b70-4d2f-b334-1efacce6746b",
   "metadata": {},
   "outputs": [],
   "source": [
    "def plot_data(X, y, pos_label=\"y=1\", neg_label=\"y=0\"):\n",
    "    positive = y == 1\n",
    "    negative = y == 0\n",
    "    \n",
    "    # Plot examples\n",
    "    plt.plot(X[positive, 0], X[positive, 1], 'k+', label=pos_label)\n",
    "    plt.plot(X[negative, 0], X[negative, 1], 'yo', label=neg_label)"
   ]
  },
  {
   "cell_type": "code",
   "execution_count": 29,
   "id": "853a6cb6-f1ce-4168-a150-a2fecbc60487",
   "metadata": {},
   "outputs": [
    {
     "name": "stdout",
     "output_type": "stream",
     "text": [
      "[[1.         0.18421053]\n",
      " [0.         0.36842105]\n",
      " [1.         0.42105263]\n",
      " ...\n",
      " [1.         0.47368421]\n",
      " [1.         0.5       ]\n",
      " [0.         0.52631579]]\n",
      "[[1, 2, 3]]\n"
     ]
    }
   ],
   "source": [
    "print(X_train[:, :2])\n",
    "\n",
    "l = [[1, 2, 3], [4, 5, 6], [7, 8, 9]]\n",
    "\n",
    "print(l[:2][:1])"
   ]
  },
  {
   "cell_type": "code",
   "execution_count": 31,
   "id": "15f6e677-ce4c-47d0-ab63-c750365d487f",
   "metadata": {},
   "outputs": [
    {
     "data": {
      "image/png": "[encoded data removed]",
      "text/plain": [
       "<Figure size 640x480 with 1 Axes>"
      ]
     },
     "metadata": {},
     "output_type": "display_data"
    }
   ],
   "source": [
    "# Plot examples\n",
    "plot_data(X_train[:, :2], y_train[:], pos_label=\"Possible\", neg_label=\"No diseases\")\n",
    "\n",
    "# Set the y-axis label\n",
    "plt.ylabel('Exam 2 score') \n",
    "# Set the x-axis label\n",
    "plt.xlabel('Exam 1 score') \n",
    "plt.legend(loc=\"upper right\")\n",
    "plt.show()\n"
   ]
  },
  {
   "cell_type": "code",
   "execution_count": 32,
   "id": "e159c911-44f1-4372-87c2-10ed215b077b",
   "metadata": {},
   "outputs": [],
   "source": [
    "def plot_decision_boundary(w, b, X, y):\n",
    "    # Plot data points\n",
    "    plt.figure(figsize=(8, 6))\n",
    "    plt.scatter(X[y==0, 0], X[y==0, 1], label='Class 0', c='r', marker='x')\n",
    "    plt.scatter(X[y==1, 0], X[y==1, 1], label='Class 1', c='g', marker='o')\n",
    "\n",
    "    # Plot decision boundary\n",
    "    x_min, x_max = X[:, 0].min() - 0.05, X[:, 0].max() + 0.05\n",
    "    x_values = np.linspace(x_min, x_max, 100)\n",
    "    y_values = -(w[0] * x_values + b) / w[1]\n",
    "\n",
    "    plt.plot(x_values, y_values, label='Decision Boundary', color='blue')\n",
    "    plt.xlim(X[:, 0].min() - 0.1, X[:, 0].max() + 0.1)\n",
    "    plt.ylim(X[:, 1].min() - 0.1, X[:, 1].max() + 0.1)\n",
    "    plt.xlabel('Feature 1')\n",
    "    plt.ylabel('Feature 2')\n",
    "    plt.legend()\n",
    "    plt.grid(True)\n",
    "    plt.title('Decision Boundary')\n",
    "    plt.show()\n"
   ]
  },
  {
   "cell_type": "code",
   "execution_count": 35,
   "id": "c2b6946b-47a5-4291-bec7-9862ce116723",
   "metadata": {},
   "outputs": [
    {
     "data": {
      "image/png": "[encoded data removed]",
      "text/plain": [
       "<Figure size 800x600 with 1 Axes>"
      ]
     },
     "metadata": {},
     "output_type": "display_data"
    }
   ],
   "source": [
    "plot_decision_boundary(w, b, X_train[:, 3:5], y_train)"
   ]
  },
  {
   "cell_type": "code",
   "execution_count": null,
   "id": "1b8379cc-fc6d-4e05-9955-2678d9bba677",
   "metadata": {},
   "outputs": [],
   "source": []
  }
 ],
 "metadata": {
  "kernelspec": {
   "display_name": "Python 3 (ipykernel)",
   "language": "python",
   "name": "python3"
  },
  "language_info": {
   "codemirror_mode": {
    "name": "ipython",
    "version": 3
   },
   "file_extension": ".py",
   "mimetype": "text/x-python",
   "name": "python",
   "nbconvert_exporter": "python",
   "pygments_lexer": "ipython3",
   "version": "3.12.7"
  }
 },
 "nbformat": 4,
 "nbformat_minor": 5
}
