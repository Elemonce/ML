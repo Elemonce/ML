{
 "cells": [
  {
   "cell_type": "code",
   "execution_count": 1,
   "id": "0d28b2bd-1493-4b7c-a3fd-45f9aee19998",
   "metadata": {},
   "outputs": [],
   "source": [
    "import pandas as pd\n",
    "import numpy as np\n",
    "import matplotlib.pyplot as plt\n",
    "import math"
   ]
  },
  {
   "cell_type": "code",
   "execution_count": 10,
   "id": "f104bce6-a067-4ffd-bbeb-7459808c03d1",
   "metadata": {},
   "outputs": [
    {
     "name": "stdout",
     "output_type": "stream",
     "text": [
      "3656\n",
      "(3656,)\n",
      "[[ 39. 195.]\n",
      " [ 46. 250.]\n",
      " [ 48. 245.]\n",
      " ...\n",
      " [ 50. 313.]\n",
      " [ 51. 207.]\n",
      " [ 52. 269.]]\n"
     ]
    }
   ],
   "source": [
    "df = pd.read_csv(\"framingham.csv\")\n",
    "\n",
    "# List all the feature column names\n",
    "feature_cols = [\"age\", \"totChol\"] \n",
    "\n",
    "df_cleaned = df.dropna()\n",
    "# print(\"Any NaN in X:\", np.isnan(df).any())\n",
    "\n",
    "# Extract all features at once\n",
    "X_train = df_cleaned[feature_cols].values  # Converts to a NumPy array\n",
    "\n",
    "# Extract target variable\n",
    "y_train = df_cleaned[\"TenYearCHD\"].values  # Converts target column to NumPy array\n",
    "\n",
    "\n",
    "\n",
    "# print(X_train.shape[0])\n",
    "# print(y_train.shape)\n",
    "\n",
    "# print(X_train)"
   ]
  },
  {
   "cell_type": "code",
   "execution_count": 12,
   "id": "ea930fb1-4114-4c5c-a6ca-68763afdd730",
   "metadata": {},
   "outputs": [],
   "source": [
    "def normalize(X):\n",
    "    min_value = X.min(axis=0)\n",
    "    max_value = X.max(axis=0)\n",
    "\n",
    "    return (X - min_value) / (max_value - min_value)"
   ]
  },
  {
   "cell_type": "code",
   "execution_count": 15,
   "id": "9060b872-5b5b-4460-b4ee-17e6dcd44421",
   "metadata": {},
   "outputs": [],
   "source": [
    "X_train = normalize(X_train)"
   ]
  },
  {
   "cell_type": "code",
   "execution_count": 17,
   "id": "56c59127-28f3-45ed-8ae0-263c1e84432c",
   "metadata": {},
   "outputs": [],
   "source": [
    "def sigmoid(z):\n",
    "    return 1/(1+np.exp(-z))"
   ]
  },
  {
   "cell_type": "code",
   "execution_count": 18,
   "id": "7c3c2047-4fe9-4752-aed7-3212f743eee1",
   "metadata": {},
   "outputs": [],
   "source": [
    "def compute_cost(X, y, w, b):\n",
    "    m = X.shape[0]\n",
    "    cost = 0\n",
    "    epsilon = 1e-10  # Small constant to prevent log(0)\n",
    "\n",
    "    for i in range(m):\n",
    "        z_wb_x_i = np.dot(X[i], w) + b\n",
    "\n",
    "        f_wb_i = sigmoid(z_wb_x_i)\n",
    "\n",
    "        f_wb_i = np.clip(f_wb_i, epsilon, 1 - epsilon)\n",
    "\n",
    "        loss = -y[i] * np.log(f_wb_i) - ((1 - y[i]) * np.log(1 - f_wb_i))\n",
    "\n",
    "    cost = cost / m\n",
    "\n",
    "    return cost"
   ]
  },
  {
   "cell_type": "code",
   "execution_count": null,
   "id": "e57f90c4-589f-44d2-83d9-1d8439ba16ef",
   "metadata": {},
   "outputs": [],
   "source": [
    "def compute_gradient(X, y, w, b):\n",
    "    m,n = X.shape\n",
    "\n",
    "    dj_dw = np.zeros((n,))\n",
    "    dj_db = 0.\n",
    "\n",
    "\n",
    "    for i in range(m):\n",
    "        f_wb_i = np.dot(X[i], w) + b\n",
    "        err = f_wb_i - y[i]\n",
    "        for j in range(n):\n",
    "            dj_dw[j] += err * X[i][j]\n",
    "            \n",
    "        dj_db += err\n",
    "\n",
    "    return dj_dw, dj_db"
   ]
  }
 ],
 "metadata": {
  "kernelspec": {
   "display_name": "Python 3 (ipykernel)",
   "language": "python",
   "name": "python3"
  },
  "language_info": {
   "codemirror_mode": {
    "name": "ipython",
    "version": 3
   },
   "file_extension": ".py",
   "mimetype": "text/x-python",
   "name": "python",
   "nbconvert_exporter": "python",
   "pygments_lexer": "ipython3",
   "version": "3.12.7"
  }
 },
 "nbformat": 4,
 "nbformat_minor": 5
}
