{
 "cells": [
  {
   "cell_type": "code",
   "execution_count": 1,
   "id": "0d28b2bd-1493-4b7c-a3fd-45f9aee19998",
   "metadata": {},
   "outputs": [],
   "source": [
    "import pandas as pd\n",
    "import numpy as np\n",
    "import matplotlib.pyplot as plt\n",
    "import math"
   ]
  },
  {
   "cell_type": "code",
   "execution_count": 2,
   "id": "f104bce6-a067-4ffd-bbeb-7459808c03d1",
   "metadata": {},
   "outputs": [],
   "source": [
    "df = pd.read_csv(\"framingham.csv\")\n",
    "\n",
    "feature_cols = [\"age\", \"totChol\"] \n",
    "\n",
    "df_cleaned = df.dropna()\n",
    "\n",
    "X_train = df_cleaned[feature_cols].values  # Converts to a NumPy array\n",
    "y_train = df_cleaned[\"TenYearCHD\"].values  # Converts target column to NumPy array"
   ]
  },
  {
   "cell_type": "code",
   "execution_count": 3,
   "id": "ea930fb1-4114-4c5c-a6ca-68763afdd730",
   "metadata": {},
   "outputs": [],
   "source": [
    "def normalize(X):\n",
    "    min_value = X.min(axis=0)\n",
    "    max_value = X.max(axis=0)\n",
    "\n",
    "    return (X - min_value) / (max_value - min_value)"
   ]
  },
  {
   "cell_type": "code",
   "execution_count": 4,
   "id": "9060b872-5b5b-4460-b4ee-17e6dcd44421",
   "metadata": {},
   "outputs": [],
   "source": [
    "X_train = normalize(X_train)"
   ]
  },
  {
   "cell_type": "code",
   "execution_count": 5,
   "id": "56c59127-28f3-45ed-8ae0-263c1e84432c",
   "metadata": {},
   "outputs": [],
   "source": [
    "def sigmoid(z):\n",
    "    return 1/(1+np.exp(-z))"
   ]
  },
  {
   "cell_type": "code",
   "execution_count": 6,
   "id": "7c3c2047-4fe9-4752-aed7-3212f743eee1",
   "metadata": {},
   "outputs": [],
   "source": [
    "def compute_cost(X, y, w, b, *argv):\n",
    "    m = X.shape[0]\n",
    "    cost = 0\n",
    "    epsilon = 1e-10  # Small constant to prevent log(0)\n",
    "\n",
    "    for i in range(m):\n",
    "        z_wb_x_i = np.dot(X[i], w) + b\n",
    "\n",
    "        f_wb_i = sigmoid(z_wb_x_i)\n",
    "\n",
    "        f_wb_i = np.clip(f_wb_i, epsilon, 1 - epsilon)\n",
    "\n",
    "        loss = -y[i] * np.log(f_wb_i) - ((1 - y[i]) * np.log(1 - f_wb_i))\n",
    "        cost += loss\n",
    "\n",
    "    cost = cost / m\n",
    "\n",
    "    return cost"
   ]
  },
  {
   "cell_type": "code",
   "execution_count": 7,
   "id": "e57f90c4-589f-44d2-83d9-1d8439ba16ef",
   "metadata": {},
   "outputs": [],
   "source": [
    "def compute_gradient(X, y, w, b, *argv):\n",
    "    m,n = X.shape\n",
    "\n",
    "    dj_dw = np.zeros((n,))\n",
    "    dj_db = 0.\n",
    "\n",
    "\n",
    "    for i in range(m):\n",
    "        z_wb_i = np.dot(X[i], w) + b\n",
    "        f_wb_i = sigmoid(z_wb_i)\n",
    "        \n",
    "        err = f_wb_i - y[i]\n",
    "        for j in range(n):\n",
    "            dj_dw[j] += err * X[i][j]\n",
    "            \n",
    "        dj_db += err\n",
    "\n",
    "    dj_dw = dj_dw / m\n",
    "    dj_db = dj_db / m\n",
    "\n",
    "    return dj_dw, dj_db"
   ]
  },
  {
   "cell_type": "code",
   "execution_count": 8,
   "id": "ee7a4934-d77e-4168-b1e9-0f1bce3ef2cb",
   "metadata": {},
   "outputs": [],
   "source": [
    "def gradient_descent(X, y, w_in, b_in, cost_function, gradient_function, alpha, num_iters, lambda_ = 1):\n",
    "    w = w_in.copy()\n",
    "    b = b_in\n",
    "\n",
    "    J_history = []\n",
    "\n",
    "    for i in range(num_iters):\n",
    "        dj_dw, dj_db = gradient_function(X, y, w, b, lambda_)\n",
    "\n",
    "        w = w - alpha * dj_dw\n",
    "        b = b - alpha * dj_db\n",
    "\n",
    "        cost = cost_function(X, y, w, b, lambda_)\n",
    "        J_history.append(cost)\n",
    "\n",
    "        if i % 100 == 0:\n",
    "            print(cost)\n",
    "\n",
    "    return w, b, J_history"
   ]
  },
  {
   "cell_type": "code",
   "execution_count": 9,
   "id": "fdd0f243-4e7c-4c20-a21d-623ac7f076b1",
   "metadata": {},
   "outputs": [
    {
     "name": "stdout",
     "output_type": "stream",
     "text": [
      "1.1608676468989132\n",
      "1.1567039995485386\n"
     ]
    },
    {
     "ename": "KeyboardInterrupt",
     "evalue": "",
     "output_type": "error",
     "traceback": [
      "\u001b[1;31m---------------------------------------------------------------------------\u001b[0m",
      "\u001b[1;31mKeyboardInterrupt\u001b[0m                         Traceback (most recent call last)",
      "Cell \u001b[1;32mIn[9], line 5\u001b[0m\n\u001b[0;32m      2\u001b[0m b_in \u001b[38;5;241m=\u001b[39m \u001b[38;5;241m1\u001b[39m\n\u001b[0;32m      3\u001b[0m alpha \u001b[38;5;241m=\u001b[39m \u001b[38;5;241m0.0001\u001b[39m\n\u001b[1;32m----> 5\u001b[0m w, b, J_history \u001b[38;5;241m=\u001b[39mgradient_descent(X_train, y_train, w_in, b_in, compute_cost, compute_gradient, alpha, \u001b[38;5;241m1000\u001b[39m)\n\u001b[0;32m      7\u001b[0m \u001b[38;5;28mprint\u001b[39m(w, b)\n",
      "Cell \u001b[1;32mIn[8], line 13\u001b[0m, in \u001b[0;36mgradient_descent\u001b[1;34m(X, y, w_in, b_in, cost_function, gradient_function, alpha, num_iters, lambda_)\u001b[0m\n\u001b[0;32m     10\u001b[0m w \u001b[38;5;241m=\u001b[39m w \u001b[38;5;241m-\u001b[39m alpha \u001b[38;5;241m*\u001b[39m dj_dw\n\u001b[0;32m     11\u001b[0m b \u001b[38;5;241m=\u001b[39m b \u001b[38;5;241m-\u001b[39m alpha \u001b[38;5;241m*\u001b[39m dj_db\n\u001b[1;32m---> 13\u001b[0m cost \u001b[38;5;241m=\u001b[39m cost_function(X, y, w, b, lambda_)\n\u001b[0;32m     14\u001b[0m J_history\u001b[38;5;241m.\u001b[39mappend(cost)\n\u001b[0;32m     16\u001b[0m \u001b[38;5;28;01mif\u001b[39;00m i \u001b[38;5;241m%\u001b[39m \u001b[38;5;241m100\u001b[39m \u001b[38;5;241m==\u001b[39m \u001b[38;5;241m0\u001b[39m:\n",
      "Cell \u001b[1;32mIn[6], line 7\u001b[0m, in \u001b[0;36mcompute_cost\u001b[1;34m(X, y, w, b, *argv)\u001b[0m\n\u001b[0;32m      4\u001b[0m epsilon \u001b[38;5;241m=\u001b[39m \u001b[38;5;241m1e-10\u001b[39m  \u001b[38;5;66;03m# Small constant to prevent log(0)\u001b[39;00m\n\u001b[0;32m      6\u001b[0m \u001b[38;5;28;01mfor\u001b[39;00m i \u001b[38;5;129;01min\u001b[39;00m \u001b[38;5;28mrange\u001b[39m(m):\n\u001b[1;32m----> 7\u001b[0m     z_wb_x_i \u001b[38;5;241m=\u001b[39m np\u001b[38;5;241m.\u001b[39mdot(X[i], w) \u001b[38;5;241m+\u001b[39m b\n\u001b[0;32m      9\u001b[0m     f_wb_i \u001b[38;5;241m=\u001b[39m sigmoid(z_wb_x_i)\n\u001b[0;32m     11\u001b[0m     f_wb_i \u001b[38;5;241m=\u001b[39m np\u001b[38;5;241m.\u001b[39mclip(f_wb_i, epsilon, \u001b[38;5;241m1\u001b[39m \u001b[38;5;241m-\u001b[39m epsilon)\n",
      "\u001b[1;31mKeyboardInterrupt\u001b[0m: "
     ]
    }
   ],
   "source": [
    "w_in = np.zeros(X_train.shape[1])\n",
    "b_in = 1\n",
    "alpha = 0.0001\n",
    "\n",
    "w, b, J_history =gradient_descent(X_train, y_train, w_in, b_in, compute_cost, compute_gradient, alpha, 1000)\n",
    "\n",
    "print(w, b)\n",
    "# print(compute_cost(X_train, y_train, w, b))"
   ]
  },
  {
   "cell_type": "code",
   "execution_count": 10,
   "id": "dc58d1a6-7a84-4aa4-8a64-b22cbcd45d13",
   "metadata": {},
   "outputs": [],
   "source": [
    "def compute_cost_reg(X, y, w, b, lambda_ = 1):\n",
    "    cost = compute_cost(X, y, w, b)\n",
    "\n",
    "    m,n = X.shape\n",
    "    reg_cost = 0.\n",
    "    for j in range(n):\n",
    "        reg_cost += w[j] ** 2\n",
    "\n",
    "    reg_cost = reg_cost * (lambda_ / (2 * m))\n",
    "\n",
    "    total_cost = cost + reg_cost\n",
    "    return total_cost"
   ]
  },
  {
   "cell_type": "code",
   "execution_count": 11,
   "id": "d58b3648-8a85-4a5c-8177-90d65a0a10c4",
   "metadata": {},
   "outputs": [],
   "source": [
    "def compute_gradient_reg(X, y, w, b, lambda_ = 1):\n",
    "    dj_dw, dj_db = compute_gradient(X, y, w, b)\n",
    "\n",
    "    m, n = X.shape\n",
    "\n",
    "    for j in range(n):\n",
    "        dj_dw[j] += (lambda_ / m) * w[j]\n",
    "\n",
    "    return dj_dw, dj_db"
   ]
  },
  {
   "cell_type": "code",
   "execution_count": 37,
   "id": "1b69a72a-365c-4897-92c8-4c65f0194094",
   "metadata": {},
   "outputs": [
    {
     "name": "stdout",
     "output_type": "stream",
     "text": [
      "0.5685040105987316\n",
      "0.4136600906239425\n",
      "0.40466002030007814\n",
      "0.40141801232134994\n",
      "0.40015321816436084\n",
      "0.3996155792363251\n",
      "0.3993619474006816\n",
      "0.39922616818723516\n",
      "0.39914308162629214\n",
      "0.3990860235983999\n",
      "[2.85378553 0.53512968] -3.3164312463926646\n"
     ]
    }
   ],
   "source": [
    "# w_in = np.array([0.2, 0.1])\n",
    "# b_in = 0.1\n",
    "w_in = np.zeros(X_train.shape[1])\n",
    "# b_in = 0.\n",
    "b_in = 0\n",
    "alpha = 1\n",
    "lambda_ = 0.1\n",
    "w, b, J_history =gradient_descent(X_train, y_train, w_in, b_in, compute_cost_reg, compute_gradient_reg, alpha, 1000, lambda_)\n",
    "\n",
    "print(w, b)\n",
    "# print(compute_cost(X_train, y_train, w, b))\n",
    "# print(compute_cost_reg(X_train, y_train, w, b))"
   ]
  },
  {
   "cell_type": "code",
   "execution_count": 41,
   "id": "51455f93-941c-45e9-9f8a-61298924a673",
   "metadata": {},
   "outputs": [],
   "source": [
    "def predict(X, w, b):\n",
    "    m = X.shape[0]\n",
    "    p = np.zeros((m,))\n",
    "\n",
    "\n",
    "    for i in range(m):\n",
    "        z_wb_i = np.dot(X[i], w) + b\n",
    "        f_wb_i = sigmoid(z_wb_i)\n",
    "\n",
    "        if f_wb_i >= 0.5:\n",
    "            print(f_wb_i)\n",
    "            p[i] = 1\n",
    "        else:\n",
    "            p[i] = 0\n",
    "\n",
    "    return p\n",
    "\n",
    "    "
   ]
  },
  {
   "cell_type": "code",
   "execution_count": 42,
   "id": "ab7daa33-eb66-432e-bede-551be8ca89a6",
   "metadata": {},
   "outputs": [],
   "source": [
    "def compare_with_actual_values(p, y):\n",
    "    m = p.shape[0]\n",
    "\n",
    "    y_length = y.shape[0]\n",
    "    got_correct = 0\n",
    "    for i in range(m):\n",
    "        # print(p[i])\n",
    "        if p[i] == y[i]:\n",
    "            got_correct += 1\n",
    "        # else:\n",
    "            # print(p[i], y[i])\n",
    "\n",
    "    return f\"Number of examples: {y_length}, got correct: {got_correct}.\""
   ]
  },
  {
   "cell_type": "code",
   "execution_count": 43,
   "id": "44e85c4c-6633-412f-81a7-91034d27cdd9",
   "metadata": {},
   "outputs": [
    {
     "name": "stdout",
     "output_type": "stream",
     "text": [
      "Number of examples: 3656, got correct: 3099.\n"
     ]
    }
   ],
   "source": [
    "p = predict(X_train, w, b)\n",
    "print(compare_with_actual_values(p, y_train))"
   ]
  },
  {
   "cell_type": "code",
   "execution_count": 19,
   "id": "b7efbab6-b340-4107-83a2-b792c78591b3",
   "metadata": {},
   "outputs": [],
   "source": [
    "def plot_data(X, y, pos_label=\"y=1\", neg_label=\"y=0\"):\n",
    "    positive = y == 1\n",
    "    negative = y == 0\n",
    "    \n",
    "    # Plot examples\n",
    "    plt.plot(X[positive, 0], X[positive, 1], 'k+', label=pos_label)\n",
    "    plt.plot(X[negative, 0], X[negative, 1], 'yo', label=neg_label)"
   ]
  },
  {
   "cell_type": "code",
   "execution_count": 20,
   "id": "9e403922-64f6-4273-9c35-484b157344c4",
   "metadata": {},
   "outputs": [
    {
     "data": {
      "image/png": "[encoded data removed]",
      "text/plain": [
       "<Figure size 640x480 with 1 Axes>"
      ]
     },
     "metadata": {},
     "output_type": "display_data"
    }
   ],
   "source": [
    "# Plot examples\n",
    "plot_data(X_train, y_train[:], pos_label=\"Possible\", neg_label=\"No diseases\")\n",
    "\n",
    "# Set the y-axis label\n",
    "plt.ylabel('Exam 2 score') \n",
    "# Set the x-axis label\n",
    "plt.xlabel('Exam 1 score') \n",
    "plt.legend(loc=\"upper right\")\n",
    "plt.show()\n"
   ]
  },
  {
   "cell_type": "code",
   "execution_count": null,
   "id": "0038a0ac-ec29-4286-abda-9c3411faeb5a",
   "metadata": {},
   "outputs": [],
   "source": [
    "fig, (ax1, ax2) = plt.subplots(1, 2, constrained_layout=True, figsize=(12, 4))\n",
    "ax1.plot(J_history)\n",
    "ax2.plot(100 + np.arange(len(J_history[100:])), J_history[100:])\n",
    "ax1.set_title(\"Cost vs. iteration\");  ax2.set_title(\"Cost vs. iteration (tail)\")\n",
    "ax1.set_ylabel('Cost')             ;  ax2.set_ylabel('Cost') \n",
    "ax1.set_xlabel('iteration step')   ;  ax2.set_xlabel('iteration step') \n",
    "plt.show()"
   ]
  },
  {
   "cell_type": "code",
   "execution_count": null,
   "id": "63d09101-02ce-4bbf-a43a-06e046afac0b",
   "metadata": {},
   "outputs": [],
   "source": [
    "def plot_decision_boundary(w, b, X, y):\n",
    "    # Plot data points\n",
    "    plt.figure(figsize=(8, 6))\n",
    "    plt.scatter(X[y==0, 0], X[y==0, 1], label='Class 0', c='r', marker='x')\n",
    "    plt.scatter(X[y==1, 0], X[y==1, 1], label='Class 1', c='g', marker='o')\n",
    "\n",
    "    # Plot decision boundary\n",
    "    x_min, x_max = X[:, 0].min() - 0.05, X[:, 0].max() + 0.05\n",
    "    x_values = np.linspace(x_min, x_max, 100)\n",
    "    y_values = -(w[0] * x_values + b) / w[1]\n",
    "\n",
    "    plt.plot(x_values, y_values, label='Decision Boundary', color='blue')\n",
    "    plt.xlim(X[:, 0].min() - 0.1, X[:, 0].max() + 0.1)\n",
    "    plt.ylim(X[:, 1].min() - 0.1, X[:, 1].max() + 0.1)\n",
    "    plt.xlabel('Feature 1')\n",
    "    plt.ylabel('Feature 2')\n",
    "    plt.legend()\n",
    "    plt.grid(True)\n",
    "    plt.title('Decision Boundary')\n",
    "    plt.show()\n"
   ]
  }
 ],
 "metadata": {
  "kernelspec": {
   "display_name": "Python 3 (ipykernel)",
   "language": "python",
   "name": "python3"
  },
  "language_info": {
   "codemirror_mode": {
    "name": "ipython",
    "version": 3
   },
   "file_extension": ".py",
   "mimetype": "text/x-python",
   "name": "python",
   "nbconvert_exporter": "python",
   "pygments_lexer": "ipython3",
   "version": "3.12.7"
  }
 },
 "nbformat": 4,
 "nbformat_minor": 5
}
