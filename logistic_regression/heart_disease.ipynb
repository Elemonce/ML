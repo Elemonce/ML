{
 "cells": [
  {
   "cell_type": "code",
   "execution_count": 55,
   "id": "58dfdadc-22e2-4dbd-85f7-415b50b2d702",
   "metadata": {},
   "outputs": [],
   "source": [
    "import pandas as pd\n",
    "import numpy as np\n",
    "import matplotlib.pyplot as plt\n",
    "import math"
   ]
  },
  {
   "cell_type": "code",
   "execution_count": 56,
   "id": "d7eb4e65-dd77-4057-8531-f543ea909525",
   "metadata": {},
   "outputs": [
    {
     "name": "stdout",
     "output_type": "stream",
     "text": [
      "3656\n",
      "(3656,)\n",
      "[[  1.    39.     4.   ...  26.97  80.    77.  ]\n",
      " [  0.    46.     2.   ...  28.73  95.    76.  ]\n",
      " [  1.    48.     1.   ...  25.34  75.    70.  ]\n",
      " ...\n",
      " [  1.    50.     1.   ...  25.97  66.    86.  ]\n",
      " [  1.    51.     3.   ...  19.71  65.    68.  ]\n",
      " [  0.    52.     2.   ...  21.47  80.   107.  ]]\n"
     ]
    }
   ],
   "source": [
    "df = pd.read_csv(\"framingham.csv\")\n",
    "\n",
    "# List all the feature column names\n",
    "feature_cols = [\n",
    "    \"male\", \"age\", \"education\", \"currentSmoker\", \"cigsPerDay\", \"BPMeds\",\n",
    "    \"prevalentStroke\", \"prevalentHyp\", \"diabetes\", \"totChol\", \"sysBP\",\n",
    "    \"diaBP\", \"BMI\", \"heartRate\", \"glucose\"\n",
    "]\n",
    "\n",
    "df_cleaned = df.dropna()\n",
    "# print(\"Any NaN in X:\", np.isnan(df).any())\n",
    "\n",
    "# Extract all features at once\n",
    "X_train = df_cleaned[feature_cols].values  # Converts to a NumPy array\n",
    "\n",
    "# Extract target variable\n",
    "y_train = df_cleaned[\"TenYearCHD\"].values  # Converts target column to NumPy array\n",
    "\n",
    "\n",
    "\n",
    "print(X_train.shape[0])\n",
    "print(y_train.shape)\n",
    "\n",
    "print(X_train)\n",
    "\n",
    "# print(\"Checking for NaN or Inf in X and y...\")\n",
    "# print(\"Any NaN in X:\", np.isnan(X_train).any())\n",
    "# print(\"Any NaN in y:\", np.isnan(y_train).any())\n",
    "# print(\"Any Inf in X:\", np.isinf(X_train).any())\n",
    "# print(\"Any Inf in y:\", np.isinf(y_train).any())\n",
    "# print(df.head())"
   ]
  },
  {
   "cell_type": "code",
   "execution_count": 57,
   "id": "6545e8a7-4587-4995-b502-6483cb1ff787",
   "metadata": {},
   "outputs": [],
   "source": [
    "def normalize(X):\n",
    "    x_min = X.min(axis=0)\n",
    "    x_max = X.max(axis=0)\n",
    "\n",
    "    return (X - x_min) / (x_max - x_min)"
   ]
  },
  {
   "cell_type": "code",
   "execution_count": 58,
   "id": "c16be35a-a179-47d4-8989-9520802b3961",
   "metadata": {},
   "outputs": [
    {
     "name": "stdout",
     "output_type": "stream",
     "text": [
      "[[1.         0.18421053 1.         ... 0.27702375 0.36363636 0.10451977]\n",
      " [0.         0.36842105 0.33333333 ... 0.31968008 0.51515152 0.10169492]\n",
      " [1.         0.42105263 0.         ... 0.23751818 0.31313131 0.08474576]\n",
      " ...\n",
      " [1.         0.47368421 0.         ... 0.2527872  0.22222222 0.1299435 ]\n",
      " [1.         0.5        0.66666667 ... 0.10106641 0.21212121 0.07909605]\n",
      " [0.         0.52631579 0.33333333 ... 0.14372273 0.36363636 0.18926554]]\n"
     ]
    }
   ],
   "source": [
    "X_train = normalize(X_train)\n",
    "\n",
    "print(X_train)"
   ]
  },
  {
   "cell_type": "code",
   "execution_count": 63,
   "id": "cfec2013-4b77-4874-a507-d6b1b1cef85a",
   "metadata": {},
   "outputs": [],
   "source": [
    "def sigmoid(z):\n",
    "    if np.isinf(np.exp(-z).any()):\n",
    "        print(z)\n",
    "    g_of_z = 1/(1+np.exp(-z))\n",
    "    return g_of_z\n",
    "    "
   ]
  },
  {
   "cell_type": "code",
   "execution_count": 64,
   "id": "4b0f601c-65f6-4991-b67e-7c0da4103243",
   "metadata": {},
   "outputs": [],
   "source": [
    "def compute_cost(X, y, w, b):\n",
    "    m = X.shape[0]\n",
    "    cost = 0\n",
    "    epsilon = 1e-10  # Small constant to prevent log(0)\n",
    "\n",
    "    for i in range(m):\n",
    "        z_wb_x_i = np.dot(X[i], w) + b\n",
    "        f_wb_i = sigmoid(z_wb_x_i)\n",
    "\n",
    "        # Clip f_wb_i to avoid log(0)\n",
    "        f_wb_i = np.clip(f_wb_i, epsilon, 1 - epsilon)\n",
    "        \n",
    "        loss = -y[i] * np.log(f_wb_i) - (1 - y[i]) * np.log(1 - f_wb_i)\n",
    "        cost += loss\n",
    "\n",
    "    return cost / m"
   ]
  },
  {
   "cell_type": "code",
   "execution_count": 65,
   "id": "42b32fdb-032d-41f4-bf13-234fe2210a63",
   "metadata": {},
   "outputs": [
    {
     "name": "stdout",
     "output_type": "stream",
     "text": [
      "[3.65012096 3.67629098 3.42375385 3.80229423 2.89794186 2.65085256\n",
      " 2.60193299 3.27875114 2.64279822 3.20460666 3.13105917 3.47926963\n",
      " 3.18989936 3.37531764 2.86955035]\n"
     ]
    }
   ],
   "source": [
    "print(compute_cost(X_train, y_train, 3, 3))"
   ]
  },
  {
   "cell_type": "code",
   "execution_count": 66,
   "id": "44cda09a-0411-41ee-8229-bb06a3c4316a",
   "metadata": {},
   "outputs": [],
   "source": [
    "def compute_gradient(X, y, w, b):\n",
    "    m, n = X.shape\n",
    "    dj_dw = np.zeros((n,))\n",
    "    dj_db = 0.\n",
    "\n",
    "    for i in range(m):\n",
    "        f_wb_i = np.dot(X[i], w) + b\n",
    "        err = f_wb_i - y[i]\n",
    "        for j in range(n):\n",
    "            dj_dw[j] += err * X[i][j]\n",
    "        dj_db += err\n",
    "\n",
    "    return dj_dw, dj_db\n",
    "            "
   ]
  },
  {
   "cell_type": "code",
   "execution_count": 69,
   "id": "fcf33387-f3e9-44e5-a200-4f1c522b3698",
   "metadata": {},
   "outputs": [],
   "source": [
    "def gradient_descent(X, y, w_in, b_in, cost_function, gradient_function, alpha, num_iters): \n",
    "    w = w_in.copy()\n",
    "    b = b_in\n",
    "\n",
    "    J_history = []\n",
    "    w_history = []\n",
    "\n",
    "    for i in range(num_iters):\n",
    "        dj_dw, dj_db = compute_gradient(X, y, w, b)\n",
    "\n",
    "        w = w - alpha * dj_dw\n",
    "        b = b - alpha * dj_db\n",
    "\n",
    "        cost = compute_cost(X, y, w, b)\n",
    "\n",
    "        J_history.append(cost)\n",
    "\n",
    "    return w, b, J_history"
   ]
  },
  {
   "cell_type": "code",
   "execution_count": 76,
   "id": "40d0a14c-9595-42ab-b91e-9bdcaac975d9",
   "metadata": {},
   "outputs": [
    {
     "name": "stdout",
     "output_type": "stream",
     "text": [
      "[ 0.05507005  0.28343248 -0.01894236  0.00952781  0.14679854  0.05356081\n",
      "  0.11867988  0.03574992  0.06743462  0.05990042  0.35284715 -0.00807208\n",
      " -0.00363959 -0.0282544   0.27035654] -0.15145371684709147\n"
     ]
    }
   ],
   "source": [
    "w_in = np.zeros(X_train.shape[1])\n",
    "b_in = 0.\n",
    "alpha = 0.0001\n",
    "\n",
    "w, b, J_history = gradient_descent(X_train, y_train, w_in, b_in, compute_cost, compute_gradient, alpha, 1000)\n",
    "\n",
    "print(w, b)"
   ]
  },
  {
   "cell_type": "code",
   "execution_count": 78,
   "id": "15ff90b1-384d-4923-a651-da57c14f51f3",
   "metadata": {},
   "outputs": [
    {
     "name": "stdout",
     "output_type": "stream",
     "text": [
      "0.7379093793322845\n"
     ]
    }
   ],
   "source": [
    "print(compute_cost(X_train, y_train, w, b))"
   ]
  }
 ],
 "metadata": {
  "kernelspec": {
   "display_name": "Python 3 (ipykernel)",
   "language": "python",
   "name": "python3"
  },
  "language_info": {
   "codemirror_mode": {
    "name": "ipython",
    "version": 3
   },
   "file_extension": ".py",
   "mimetype": "text/x-python",
   "name": "python",
   "nbconvert_exporter": "python",
   "pygments_lexer": "ipython3",
   "version": "3.12.7"
  }
 },
 "nbformat": 4,
 "nbformat_minor": 5
}
