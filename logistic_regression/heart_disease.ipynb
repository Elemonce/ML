{
 "cells": [
  {
   "cell_type": "code",
   "execution_count": 1,
   "id": "58dfdadc-22e2-4dbd-85f7-415b50b2d702",
   "metadata": {},
   "outputs": [],
   "source": [
    "import pandas as pd\n",
    "import numpy as np\n",
    "import matplotlib.pyplot as plt\n",
    "import math"
   ]
  },
  {
   "cell_type": "code",
   "execution_count": 6,
   "id": "d7eb4e65-dd77-4057-8531-f543ea909525",
   "metadata": {},
   "outputs": [
    {
     "name": "stdout",
     "output_type": "stream",
     "text": [
      "   male  age  education  currentSmoker  cigsPerDay  BPMeds  prevalentStroke  \\\n",
      "0     1   39        4.0              0         0.0     0.0                0   \n",
      "1     0   46        2.0              0         0.0     0.0                0   \n",
      "2     1   48        1.0              1        20.0     0.0                0   \n",
      "3     0   61        3.0              1        30.0     0.0                0   \n",
      "4     0   46        3.0              1        23.0     0.0                0   \n",
      "\n",
      "   prevalentHyp  diabetes  totChol  sysBP  diaBP    BMI  heartRate  glucose  \\\n",
      "0             0         0    195.0  106.0   70.0  26.97       80.0     77.0   \n",
      "1             0         0    250.0  121.0   81.0  28.73       95.0     76.0   \n",
      "2             0         0    245.0  127.5   80.0  25.34       75.0     70.0   \n",
      "3             1         0    225.0  150.0   95.0  28.58       65.0    103.0   \n",
      "4             0         0    285.0  130.0   84.0  23.10       85.0     85.0   \n",
      "\n",
      "   TenYearCHD  \n",
      "0           0  \n",
      "1           0  \n",
      "2           0  \n",
      "3           1  \n",
      "4           0  \n"
     ]
    }
   ],
   "source": [
    "df = pd.read_csv(\"framingham.csv\")\n",
    "\n",
    "# List all the feature column names\n",
    "feature_cols = [\n",
    "    \"male\", \"age\", \"education\", \"currentSmoker\", \"cigsPerDay\", \"BPMeds\",\n",
    "    \"prevalentStroke\", \"prevalentHyp\", \"diabetes\", \"totChol\", \"sysBP\",\n",
    "    \"diaBP\", \"BMI\", \"heartRate\", \"glucose\"\n",
    "]\n",
    "\n",
    "# Extract all features at once\n",
    "X = df[feature_cols].values  # Converts to a NumPy array\n",
    "\n",
    "# Extract target variable\n",
    "y = df[\"TenYearCHD\"].values  # Converts target column to NumPy array\n",
    "\n",
    "\n",
    "print(df.head())"
   ]
  },
  {
   "cell_type": "code",
   "execution_count": 13,
   "id": "cfec2013-4b77-4874-a507-d6b1b1cef85a",
   "metadata": {},
   "outputs": [],
   "source": [
    "def sigmoid(z):\n",
    "    g_of_z = 1/(1+np.exp(-z))\n",
    "    "
   ]
  },
  {
   "cell_type": "code",
   "execution_count": 14,
   "id": "4b0f601c-65f6-4991-b67e-7c0da4103243",
   "metadata": {},
   "outputs": [],
   "source": [
    "def compute_cost(X, y, w, b):\n",
    "    m,n = X.shape\n",
    "\n",
    "    cost = 0\n",
    "    for i in range(m):\n",
    "        z_wb_x_i = np.dot(x[i], w) + b\n",
    "        \n",
    "        f_wb_i = sigmoid(z_wb_x_i)\n",
    "        loss = -y[i] * np.log(f_wb_i) - ((1 - y[i]) * np.log(1 - f_wb_i))\n",
    "        cost += loss\n",
    "\n",
    "    return cost"
   ]
  },
  {
   "cell_type": "code",
   "execution_count": null,
   "id": "42b32fdb-032d-41f4-bf13-234fe2210a63",
   "metadata": {},
   "outputs": [],
   "source": []
  }
 ],
 "metadata": {
  "kernelspec": {
   "display_name": "Python 3 (ipykernel)",
   "language": "python",
   "name": "python3"
  },
  "language_info": {
   "codemirror_mode": {
    "name": "ipython",
    "version": 3
   },
   "file_extension": ".py",
   "mimetype": "text/x-python",
   "name": "python",
   "nbconvert_exporter": "python",
   "pygments_lexer": "ipython3",
   "version": "3.12.7"
  }
 },
 "nbformat": 4,
 "nbformat_minor": 5
}
