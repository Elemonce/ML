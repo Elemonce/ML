{
 "cells": [
  {
   "cell_type": "code",
   "execution_count": 2,
   "id": "58dfdadc-22e2-4dbd-85f7-415b50b2d702",
   "metadata": {},
   "outputs": [],
   "source": [
    "import pandas as pd\n",
    "import numpy as np\n",
    "import matplotlib.pyplot as plt\n",
    "import math"
   ]
  },
  {
   "cell_type": "code",
   "execution_count": 3,
   "id": "d7eb4e65-dd77-4057-8531-f543ea909525",
   "metadata": {},
   "outputs": [
    {
     "name": "stdout",
     "output_type": "stream",
     "text": [
      "3656\n",
      "(3656,)\n",
      "[[  1.    39.     4.   ...  26.97  80.    77.  ]\n",
      " [  0.    46.     2.   ...  28.73  95.    76.  ]\n",
      " [  1.    48.     1.   ...  25.34  75.    70.  ]\n",
      " ...\n",
      " [  1.    50.     1.   ...  25.97  66.    86.  ]\n",
      " [  1.    51.     3.   ...  19.71  65.    68.  ]\n",
      " [  0.    52.     2.   ...  21.47  80.   107.  ]]\n"
     ]
    }
   ],
   "source": [
    "df = pd.read_csv(\"framingham.csv\")\n",
    "\n",
    "# List all the feature column names\n",
    "feature_cols = [\n",
    "    \"male\", \"age\", \"education\", \"currentSmoker\", \"cigsPerDay\", \"BPMeds\",\n",
    "    \"prevalentStroke\", \"prevalentHyp\", \"diabetes\", \"totChol\", \"sysBP\",\n",
    "    \"diaBP\", \"BMI\", \"heartRate\", \"glucose\"\n",
    "]\n",
    "\n",
    "df_cleaned = df.dropna()\n",
    "# print(\"Any NaN in X:\", np.isnan(df).any())\n",
    "\n",
    "# Extract all features at once\n",
    "X_train = df_cleaned[feature_cols].values  # Converts to a NumPy array\n",
    "\n",
    "# Extract target variable\n",
    "y_train = df_cleaned[\"TenYearCHD\"].values  # Converts target column to NumPy array\n",
    "\n",
    "\n",
    "\n",
    "print(X_train.shape[0])\n",
    "print(y_train.shape)\n",
    "\n",
    "print(X_train)\n",
    "\n",
    "# print(\"Checking for NaN or Inf in X and y...\")\n",
    "# print(\"Any NaN in X:\", np.isnan(X_train).any())\n",
    "# print(\"Any NaN in y:\", np.isnan(y_train).any())\n",
    "# print(\"Any Inf in X:\", np.isinf(X_train).any())\n",
    "# print(\"Any Inf in y:\", np.isinf(y_train).any())\n",
    "# print(df.head())"
   ]
  },
  {
   "cell_type": "code",
   "execution_count": 4,
   "id": "6545e8a7-4587-4995-b502-6483cb1ff787",
   "metadata": {},
   "outputs": [],
   "source": [
    "def normalize(X):\n",
    "    x_min = X.min(axis=0)\n",
    "    x_max = X.max(axis=0)\n",
    "\n",
    "    return (X - x_min) / (x_max - x_min)"
   ]
  },
  {
   "cell_type": "code",
   "execution_count": 5,
   "id": "c16be35a-a179-47d4-8989-9520802b3961",
   "metadata": {},
   "outputs": [
    {
     "name": "stdout",
     "output_type": "stream",
     "text": [
      "[[1.         0.18421053 1.         ... 0.27702375 0.36363636 0.10451977]\n",
      " [0.         0.36842105 0.33333333 ... 0.31968008 0.51515152 0.10169492]\n",
      " [1.         0.42105263 0.         ... 0.23751818 0.31313131 0.08474576]\n",
      " ...\n",
      " [1.         0.47368421 0.         ... 0.2527872  0.22222222 0.1299435 ]\n",
      " [1.         0.5        0.66666667 ... 0.10106641 0.21212121 0.07909605]\n",
      " [0.         0.52631579 0.33333333 ... 0.14372273 0.36363636 0.18926554]]\n"
     ]
    }
   ],
   "source": [
    "X_train = normalize(X_train)\n",
    "\n",
    "print(X_train)"
   ]
  },
  {
   "cell_type": "code",
   "execution_count": 6,
   "id": "cfec2013-4b77-4874-a507-d6b1b1cef85a",
   "metadata": {},
   "outputs": [],
   "source": [
    "def sigmoid(z):\n",
    "    if np.isinf(np.exp(-z).any()):\n",
    "        print(z)\n",
    "    g_of_z = 1/(1+np.exp(-z))\n",
    "    return g_of_z\n",
    "    "
   ]
  },
  {
   "cell_type": "code",
   "execution_count": 7,
   "id": "4b0f601c-65f6-4991-b67e-7c0da4103243",
   "metadata": {},
   "outputs": [],
   "source": [
    "def compute_cost(X, y, w, b, *argv):\n",
    "    m = X.shape[0]\n",
    "    cost = 0\n",
    "    epsilon = 1e-10  # Small constant to prevent log(0)\n",
    "\n",
    "    for i in range(m):\n",
    "        z_wb_x_i = np.dot(X[i], w) + b\n",
    "        f_wb_i = sigmoid(z_wb_x_i)\n",
    "\n",
    "        # Clip f_wb_i to avoid log(0)\n",
    "        f_wb_i = np.clip(f_wb_i, epsilon, 1 - epsilon)\n",
    "        \n",
    "        loss = -y[i] * np.log(f_wb_i) - (1 - y[i]) * np.log(1 - f_wb_i)\n",
    "        cost += loss\n",
    "\n",
    "    return cost / m"
   ]
  },
  {
   "cell_type": "code",
   "execution_count": 8,
   "id": "42b32fdb-032d-41f4-bf13-234fe2210a63",
   "metadata": {},
   "outputs": [
    {
     "name": "stdout",
     "output_type": "stream",
     "text": [
      "[3.65012096 3.67629098 3.42375385 3.80229423 2.89794186 2.65085256\n",
      " 2.60193299 3.27875114 2.64279822 3.20460666 3.13105917 3.47926963\n",
      " 3.18989936 3.37531764 2.86955035]\n"
     ]
    }
   ],
   "source": [
    "print(compute_cost(X_train, y_train, 3, 3))"
   ]
  },
  {
   "cell_type": "code",
   "execution_count": 8,
   "id": "44cda09a-0411-41ee-8229-bb06a3c4316a",
   "metadata": {},
   "outputs": [],
   "source": [
    "def compute_gradient(X, y, w, b, *argv):\n",
    "    m, n = X.shape\n",
    "    dj_dw = np.zeros((n,))\n",
    "    dj_db = 0.\n",
    "\n",
    "    for i in range(m):\n",
    "        z_wb_i = np.dot(X[i], w) + b\n",
    "        f_wb_i = sigmoid(z_wb_i)\n",
    "        err = f_wb_i - y[i]\n",
    "        for j in range(n):\n",
    "            dj_dw[j] += err * X[i][j]\n",
    "        dj_db += err\n",
    "\n",
    "    return dj_dw, dj_db\n",
    "            "
   ]
  },
  {
   "cell_type": "code",
   "execution_count": 9,
   "id": "fcf33387-f3e9-44e5-a200-4f1c522b3698",
   "metadata": {},
   "outputs": [],
   "source": [
    "def gradient_descent(X, y, w_in, b_in, cost_function, gradient_function, alpha, num_iters, lambda_ = 1): \n",
    "    w = w_in.copy()\n",
    "    b = b_in\n",
    "\n",
    "    J_history = []\n",
    "    w_history = []\n",
    "\n",
    "    for i in range(num_iters):\n",
    "        dj_dw, dj_db = gradient_function(X, y, w, b, lambda_)\n",
    "\n",
    "        w = w - alpha * dj_dw\n",
    "        b = b - alpha * dj_db\n",
    "\n",
    "        cost = cost_function(X, y, w, b, lambda_)\n",
    "\n",
    "        if i % 100 == 0:\n",
    "            print(cost)\n",
    "\n",
    "        J_history.append(cost)\n",
    "\n",
    "    return w, b, J_history"
   ]
  },
  {
   "cell_type": "code",
   "execution_count": 10,
   "id": "d8473493-18f6-4971-8b80-9728adcbeaa2",
   "metadata": {},
   "outputs": [],
   "source": [
    "def compute_cost_reg(X, y, w, b, lambda_ = 1):\n",
    "    cost = compute_cost(X, y, w, b)\n",
    "\n",
    "    m, n = X.shape\n",
    "    reg_cost = 0\n",
    "\n",
    "    for j in range(n):\n",
    "        reg_cost += w[j] ** 2\n",
    "\n",
    "    reg_cost = reg_cost * (lambda_ / (2 * m))\n",
    "\n",
    "    total_cost = reg_cost + cost\n",
    "\n",
    "    return total_cost"
   ]
  },
  {
   "cell_type": "code",
   "execution_count": 11,
   "id": "1e8bd5fa-fd6b-4de3-8e06-93fd467bb506",
   "metadata": {},
   "outputs": [],
   "source": [
    "def compute_gradient_reg(X, y, w, b, lambda_ = 1):\n",
    "    dj_dw, dj_db = compute_gradient(X, y, w, b)\n",
    "\n",
    "    m,n = X.shape\n",
    "\n",
    "    for j in range(n):\n",
    "        dj_dw[j] += (lambda_ / m) * w[j]\n",
    "\n",
    "    return dj_dw, dj_db"
   ]
  },
  {
   "cell_type": "code",
   "execution_count": 13,
   "id": "40d0a14c-9595-42ab-b91e-9bdcaac975d9",
   "metadata": {},
   "outputs": [
    {
     "name": "stdout",
     "output_type": "stream",
     "text": [
      "0.5280780479122731\n",
      "0.3846316761265566\n",
      "0.3811619319535497\n",
      "0.380092753818394\n",
      "0.37968586057691117\n",
      "0.3795362644134994\n",
      "0.37949818425235565\n",
      "0.37951227892459527\n",
      "0.37955200738487777\n",
      "0.3796042561533578\n",
      "[ 5.37757782e-01  2.46685875e+00 -1.54780073e-01  7.10626339e-02\n",
      "  1.24775939e+00  1.84055885e-01  6.72605564e-01  2.61749626e-01\n",
      "  2.12756547e-01  1.05657260e+00  2.64797977e+00  4.57531124e-04\n",
      "  1.95694507e-01 -2.89279896e-01  1.96657912e+00] -4.67593400449253\n"
     ]
    }
   ],
   "source": [
    "w_in = np.zeros(X_train.shape[1])\n",
    "b_in = 0.\n",
    "alpha = 0.001\n",
    "lambda_ = 1\n",
    "\n",
    "# w, b, J_history = gradient_descent(X_train, y_train, w_in, b_in, compute_cost, compute_gradient, alpha, 1000)\n",
    "w, b, J_history = gradient_descent(X_train, y_train, w_in, b_in, compute_cost_reg, compute_gradient_reg, alpha, 1000, lambda_)\n",
    "\n",
    "\n",
    "print(w, b)"
   ]
  },
  {
   "cell_type": "code",
   "execution_count": 14,
   "id": "56a14c66-8bd2-45b1-bc78-2a39c486fe00",
   "metadata": {},
   "outputs": [],
   "source": [
    "def predict(X, w, b):\n",
    "    m = X.shape[0]\n",
    "    p = np.zeros((m,))\n",
    "\n",
    "\n",
    "    for i in range(m):\n",
    "        z_wb_i = np.dot(X[i], w) + b\n",
    "        f_wb_i = sigmoid(z_wb_i)\n",
    "\n",
    "        if f_wb_i >= 0.5:\n",
    "            print(f_wb_i)\n",
    "            p[i] = 1\n",
    "        else:\n",
    "            p[i] = 0\n",
    "\n",
    "    return p\n",
    "\n",
    "    "
   ]
  },
  {
   "cell_type": "code",
   "execution_count": 15,
   "id": "2b5c0cbd-07f4-4e7f-b063-881e6fb66b31",
   "metadata": {},
   "outputs": [],
   "source": [
    "def compare_with_actual_values(p, y):\n",
    "    m = p.shape[0]\n",
    "\n",
    "    y_length = y.shape[0]\n",
    "    got_correct = 0\n",
    "    for i in range(m):\n",
    "        # print(p[i])\n",
    "        if p[i] == y[i]:\n",
    "            got_correct += 1\n",
    "        # else:\n",
    "            # print(p[i], y[i])\n",
    "\n",
    "    return f\"Number of examples: {y_length}, got correct: {got_correct}.\""
   ]
  },
  {
   "cell_type": "code",
   "execution_count": 16,
   "id": "0a81ce3d-3e22-434d-a06b-15b8d4d012e5",
   "metadata": {},
   "outputs": [
    {
     "name": "stdout",
     "output_type": "stream",
     "text": [
      "0.528264756569197\n",
      "0.524407443663708\n",
      "0.5012885475299312\n",
      "0.5207577833808336\n",
      "0.5095000981829642\n",
      "0.5036657403968351\n",
      "0.5960464942162079\n",
      "0.6796420438713613\n",
      "0.5013875657405282\n",
      "0.5194510999694484\n",
      "0.577470639881657\n",
      "0.5528050478529369\n",
      "0.6244599472136659\n",
      "0.5681436054348388\n",
      "0.6357588541954322\n",
      "0.5445566098777308\n",
      "0.5300292792423175\n",
      "0.6195131020102213\n",
      "0.5580684340961319\n",
      "0.5391240269046988\n",
      "0.5070048069174018\n",
      "0.5923313989265602\n",
      "0.544483514918391\n",
      "0.5330407336574118\n",
      "0.6403144672464962\n",
      "0.7058724388618177\n",
      "0.5620376830252726\n",
      "0.5761901278786616\n",
      "0.6247917837482988\n",
      "0.5593539374461491\n",
      "0.6025874065925633\n",
      "0.5184811280350631\n",
      "0.502482786850884\n",
      "0.5005283650720905\n",
      "0.5040713674393593\n",
      "0.5391449370640751\n",
      "0.5554752951301517\n",
      "0.5359194799313419\n",
      "0.5696132018801819\n",
      "0.503267388263918\n",
      "0.5303143782654484\n",
      "0.6242172598137298\n",
      "0.7111720704947833\n",
      "0.6298344479253418\n",
      "0.5207639535140254\n",
      "0.8868216167657744\n",
      "0.5380762769178643\n",
      "0.5897907874780198\n",
      "0.5010982387351165\n",
      "0.504685456780999\n",
      "0.5702722655125866\n",
      "0.6350948540990532\n",
      "0.6026929267444572\n",
      "0.8972245604098125\n",
      "0.5045994286785531\n",
      "0.5905258899426973\n",
      "0.7422757467231195\n",
      "0.7982301627990054\n",
      "0.5317300894144521\n",
      "0.5603012807064455\n",
      "0.7005640875052207\n",
      "0.5173163688762517\n",
      "0.6060887889879929\n",
      "Number of examples: 3656, got correct: 3128.\n"
     ]
    }
   ],
   "source": [
    "p = predict(X_train, w, b)\n",
    "print(compare_with_actual_values(p, y_train))"
   ]
  },
  {
   "cell_type": "code",
   "execution_count": 16,
   "id": "15ff90b1-384d-4923-a651-da57c14f51f3",
   "metadata": {},
   "outputs": [
    {
     "name": "stdout",
     "output_type": "stream",
     "text": [
      "0.7379093793322845\n"
     ]
    }
   ],
   "source": [
    "print(compute_cost(X_train, y_train, w, b))"
   ]
  },
  {
   "cell_type": "code",
   "execution_count": 17,
   "id": "957dbc04-8215-4696-89a7-7f17d1088b77",
   "metadata": {},
   "outputs": [
    {
     "data": {
      "image/png": "[encoded data removed]",
      "text/plain": [
       "<Figure size 1200x400 with 2 Axes>"
      ]
     },
     "metadata": {},
     "output_type": "display_data"
    }
   ],
   "source": [
    "fig, (ax1, ax2) = plt.subplots(1, 2, constrained_layout=True, figsize=(12, 4))\n",
    "ax1.plot(J_history)\n",
    "ax2.plot(100 + np.arange(len(J_history[100:])), J_history[100:])\n",
    "ax1.set_title(\"Cost vs. iteration\");  ax2.set_title(\"Cost vs. iteration (tail)\")\n",
    "ax1.set_ylabel('Cost')             ;  ax2.set_ylabel('Cost') \n",
    "ax1.set_xlabel('iteration step')   ;  ax2.set_xlabel('iteration step') \n",
    "plt.show()"
   ]
  },
  {
   "cell_type": "code",
   "execution_count": null,
   "id": "e1c456fb-5b70-4d2f-b334-1efacce6746b",
   "metadata": {},
   "outputs": [],
   "source": []
  }
 ],
 "metadata": {
  "kernelspec": {
   "display_name": "Python 3 (ipykernel)",
   "language": "python",
   "name": "python3"
  },
  "language_info": {
   "codemirror_mode": {
    "name": "ipython",
    "version": 3
   },
   "file_extension": ".py",
   "mimetype": "text/x-python",
   "name": "python",
   "nbconvert_exporter": "python",
   "pygments_lexer": "ipython3",
   "version": "3.12.7"
  }
 },
 "nbformat": 4,
 "nbformat_minor": 5
}
